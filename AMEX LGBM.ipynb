{
 "cells": [
  {
   "cell_type": "code",
   "execution_count": 23,
   "id": "6e4d5419",
   "metadata": {},
   "outputs": [],
   "source": [
    "import numpy as np # linear algebra\n",
    "import pandas as pd # data processing, CSV file I/O (e.g. pd.read_csv)\n",
    "import math\n",
    "import os\n",
    "import pyarrow.feather as feather\n",
    "from lightgbm import LGBMClassifier, log_evaluation\n",
    "from sklearn.model_selection import StratifiedKFold\n",
    "from sklearn import preprocessing\n",
    "from colorama import Fore, Back, Style\n",
    "import optuna.integration.lightgbm as lgb\n",
    "import optuna\n",
    "\n",
    "import warnings\n",
    "warnings.filterwarnings(\"ignore\")"
   ]
  },
  {
   "cell_type": "code",
   "execution_count": 2,
   "id": "abba16c5-1e6c-4884-818a-5d2a1404971f",
   "metadata": {},
   "outputs": [
    {
     "name": "stdout",
     "output_type": "stream",
     "text": [
      "(458913, 2033)\n",
      "(458913, 2)\n"
     ]
    }
   ],
   "source": [
    "#skip make_data\n",
    "data_use=pd.read_feather(\"../Kaggle/AMEX/train_use.ftr\")\n",
    "train_labels=pd.read_csv(\"../Kaggle/AMEX/train_labels.csv\")\n",
    "print(data_use.shape)\n",
    "print(train_labels.shape)\n",
    "\n",
    "def categorization(data):\n",
    "\n",
    "    num_cols=data._get_numeric_data().columns\n",
    "    cat_cols=list(set(data.columns) - set(num_cols))\n",
    "\n",
    "    for column in cat_cols:\n",
    "        target_column = data[column]\n",
    "        le = preprocessing.LabelEncoder()\n",
    "        le.fit(target_column)\n",
    "        label_encoded_column = le.transform(target_column)\n",
    "        data[column] = pd.Series(label_encoded_column).astype('category')\n",
    "    \n",
    "    return data\n",
    "\n",
    "data_use=categorization(data_use)"
   ]
  },
  {
   "cell_type": "code",
   "execution_count": 3,
   "id": "fb151e4f",
   "metadata": {},
   "outputs": [],
   "source": [
    "data_use=data_use.iloc[0:1000,0:40]\n",
    "train_labels=train_labels.iloc[0:1000,:]\n"
   ]
  },
  {
   "cell_type": "code",
   "execution_count": 19,
   "id": "40b86ab1",
   "metadata": {},
   "outputs": [],
   "source": [
    "#lightGBM\n",
    "def amex_metric(y_true: np.array, y_pred: np.array) -> float:\n",
    "\n",
    "    y_true=np.array(y_true)\n",
    "    y_pred=np.array(y_pred)\n",
    "\n",
    "    # count of positives and negatives\n",
    "    n_pos = y_true.sum()\n",
    "    n_neg = y_true.shape[0] - n_pos\n",
    "\n",
    "    # sorting by descring prediction values\n",
    "    indices = np.argsort(y_pred)[::-1]\n",
    "    preds, target = y_pred[indices], y_true[indices]\n",
    "\n",
    "    # filter the top 4% by cumulative row weights\n",
    "    weight = 20.0 - target * 19.0\n",
    "    cum_norm_weight = (weight / weight.sum()).cumsum()\n",
    "    four_pct_filter = cum_norm_weight <= 0.04\n",
    "\n",
    "    # default rate captured at 4%\n",
    "    d = target[four_pct_filter].sum() / n_pos\n",
    "\n",
    "    # weighted gini coefficient\n",
    "    lorentz = (target / n_pos).cumsum()\n",
    "    gini = ((lorentz - cum_norm_weight) * weight).sum()\n",
    "\n",
    "    # max weighted gini coefficient\n",
    "    gini_max = 10 * n_neg * (1 - 19 / (n_pos + 20 * n_neg))\n",
    "\n",
    "    # normalized weighted gini coefficient\n",
    "    g = gini / gini_max\n",
    "\n",
    "    return 0.5 * (g + d)\n",
    "\n",
    "def lgb_amex_metric(y_true, y_pred):\n",
    "    \"\"\"The competition metric with lightgbm's calling convention\"\"\"\n",
    "    return ('amex',\n",
    "            amex_metric(y_true, y_pred),\n",
    "            True)"
   ]
  },
  {
   "cell_type": "code",
   "execution_count": 5,
   "id": "f4dcef6b",
   "metadata": {},
   "outputs": [],
   "source": [
    "def amex_metric_optuna(preds: np.ndarray, data: lgb.Dataset) -> float:\n",
    "\n",
    "    y_pred = preds\n",
    "    y_true = data.get_label()\n",
    "\n",
    "    # count of positives and negatives\n",
    "    n_pos = y_true.sum()\n",
    "    n_neg = y_true.shape[0] - n_pos\n",
    "\n",
    "    # sorting by descring prediction values\n",
    "    indices = np.argsort(y_pred)[::-1]\n",
    "    preds, target = y_pred[indices], y_true[indices]\n",
    "\n",
    "    # filter the top 4% by cumulative row weights\n",
    "    weight = 20.0 - target * 19.0\n",
    "    cum_norm_weight = (weight / weight.sum()).cumsum()\n",
    "    four_pct_filter = cum_norm_weight <= 0.04\n",
    "\n",
    "    # default rate captured at 4%\n",
    "    d = target[four_pct_filter].sum() / n_pos\n",
    "\n",
    "    # weighted gini coefficient\n",
    "    lorentz = (target / n_pos).cumsum()\n",
    "    gini = ((lorentz - cum_norm_weight) * weight).sum()\n",
    "\n",
    "    # max weighted gini coefficient\n",
    "    gini_max = 10 * n_neg * (1 - 19 / (n_pos + 20 * n_neg))\n",
    "\n",
    "    # normalized weighted gini coefficient\n",
    "    g = gini / gini_max\n",
    "\n",
    "    return \"AMEX score\", 0.5 * (g + d), True"
   ]
  },
  {
   "cell_type": "code",
   "execution_count": 25,
   "id": "0977e094",
   "metadata": {},
   "outputs": [],
   "source": [
    "def fit_lgbm(trial, train, val, devices=(-1,),  cat_features=None, num_rounds=1500):\n",
    "    \"\"\"Train Light GBM model\"\"\"\n",
    "    X_train, y_train = train\n",
    "    X_valid, y_valid = val\n",
    "    \n",
    "    \n",
    "    params = {\n",
    "        #type\n",
    "        'objective': 'binary',\n",
    "        \"boosting\": \"gbdt\",\n",
    "        \"metric\": \"AMEX score\",\n",
    "        \"verbose\": -1,\n",
    "        #tree structure\n",
    "        'num_leaves': trial.suggest_int('num_leaves', 2, 300),\n",
    "        'max_depth': trial.suggest_int('max_depth', 2, 12),\n",
    "        'min_data_in_leaf': trial.suggest_int('min_data_in_leaf', 5, 400),\n",
    "        #accuracy\n",
    "        \"learning_rate\": 0.1,\n",
    "        #regularization\n",
    "        'lambda_l1': trial.suggest_float('lambda_l1', 0, 0.98),\n",
    "        'lambda_l2': trial.suggest_float('lambda_l1', 0, 0.98),\n",
    "        'min_gain_to_split': trial.suggest_float('min_gain_to_split', 0, 15),\n",
    "        #bagging\n",
    "        \"bagging_freq\": 1,\n",
    "        \"bagging_fraction\": trial.suggest_float('bagging_fraction', 0, 0.98),\n",
    "        \"feature_fraction\": trial.suggest_float('feature_fraction', 0, 0.98),\n",
    "        'seed':123,\n",
    "    }\n",
    "\n",
    "    device = devices[0]\n",
    "    if device == -1:\n",
    "        # use cpu\n",
    "        pass\n",
    "    else:\n",
    "        # use gpu\n",
    "        print(f'using gpu device_id {device}...')\n",
    "        params.update({'device': 'gpu', 'gpu_device_id': device})\n",
    "\n",
    "\n",
    "    d_train = lgb.Dataset(X_train, label=y_train, categorical_feature=cat_features)\n",
    "    d_valid = lgb.Dataset(X_valid, label=y_valid, categorical_feature=cat_features)\n",
    "    watchlist = [d_train, d_valid]\n",
    "    \n",
    "    #pruning_callback = optuna.integration.LightGBMPruningCallback(trial, 'auc', valid_name='valid_1')  \n",
    "\n",
    "    FIT_PARAMS_LGB = {\"num_boost_round\": 10000, \"early_stopping_rounds\": 10, \"verbose_eval\":0}\n",
    "\n",
    "    callbacks = [\n",
    "    lgb.log_evaluation(0),\n",
    "    lgb.early_stopping(10)]\n",
    "\n",
    "    model = lgb.train(params, **FIT_PARAMS_LGB,\n",
    "                categorical_feature=cat_features,\n",
    "                train_set=d_train,\n",
    "                valid_sets=watchlist,\n",
    "                callbacks=callbacks, # コマンドライン出力用コールバック関数\n",
    "                feval=amex_metric_optuna,\n",
    "                     )\n",
    "\n",
    "    # predictions\n",
    "    y_pred_valid = model.predict(X_valid, num_iteration=model.best_iteration)\n",
    "    \n",
    "    #print('best_score', model.best_score)\n",
    "    log = {'valid/amex': amex_metric(y_valid, y_pred_valid)}\n",
    "    return model, y_pred_valid, log"
   ]
  },
  {
   "cell_type": "code",
   "execution_count": 7,
   "id": "99ef676b",
   "metadata": {},
   "outputs": [],
   "source": [
    "def objective(trial, fast_check=True, return_info=False):\n",
    "        folds = 5\n",
    "        seed = 666\n",
    "        shuffle = True\n",
    "        kf = StratifiedKFold(n_splits=folds, shuffle=shuffle, random_state=seed)\n",
    "    \n",
    "        y_valid_pred_total = np.zeros(data_use.shape[0])\n",
    "        models = []\n",
    "        valid_score = 0\n",
    "\n",
    "        for train_idx, valid_idx in kf.split(data_use, train_labels[\"target\"]):\n",
    "            train_data = data_use.iloc[train_idx,:], train_labels[\"target\"].iloc[train_idx]\n",
    "            valid_data = data_use.iloc[valid_idx,:], train_labels[\"target\"].iloc[valid_idx]\n",
    "            \n",
    "            #print('train', len(train_idx), 'valid', len(valid_idx))\n",
    "    \n",
    "            model, y_pred_valid, log = fit_lgbm(trial, train_data, valid_data, num_rounds=1200)\n",
    "            \n",
    "            y_valid_pred_total[valid_idx] = y_pred_valid\n",
    "            models.append(model)\n",
    "            \n",
    "            valid_score += log[\"valid/amex\"]\n",
    "            if fast_check:\n",
    "                break\n",
    "                \n",
    "        valid_score /= len(models)\n",
    "        \n",
    "        if return_info:\n",
    "            return valid_score, models, y_valid_pred_total, train_labels[\"target\"]\n",
    "        else:\n",
    "            return valid_score\n",
    "   "
   ]
  },
  {
   "cell_type": "code",
   "execution_count": 27,
   "id": "275531ba",
   "metadata": {},
   "outputs": [
    {
     "name": "stdout",
     "output_type": "stream",
     "text": [
      "train 800 valid 200\n"
     ]
    },
    {
     "name": "stderr",
     "output_type": "stream",
     "text": [
      "feature_fraction, val_score: 0.079425:  14%|#4        | 1/7 [00:00<00:00, 15.10it/s]"
     ]
    },
    {
     "name": "stdout",
     "output_type": "stream",
     "text": [
      "[LightGBM] [Warning] Unknown parameter: score\n",
      "[LightGBM] [Warning] min_data_in_leaf is set=311, min_child_samples=20 will be ignored. Current value: min_data_in_leaf=311\n",
      "Training until validation scores don't improve for 10 rounds\n"
     ]
    },
    {
     "name": "stderr",
     "output_type": "stream",
     "text": [
      "feature_fraction, val_score: 0.079425: 100%|##########| 7/7 [00:00<00:00, 12.82it/s]\n",
      "num_leaves, val_score: 0.079425:  20%|##        | 4/20 [00:00<00:00, 17.06it/s]"
     ]
    },
    {
     "name": "stdout",
     "output_type": "stream",
     "text": [
      "Early stopping, best iteration is:\n",
      "[1]\tvalid_0's AMEX score: 0.0392608\tvalid_1's AMEX score: 0.0794247\n"
     ]
    },
    {
     "name": "stderr",
     "output_type": "stream",
     "text": [
      "num_leaves, val_score: 0.079425:  55%|#####5    | 11/20 [00:00<00:00, 17.51it/s]"
     ]
    },
    {
     "name": "stdout",
     "output_type": "stream",
     "text": [
      "Early stopping, best iteration is:\n",
      "[1]\tvalid_0's AMEX score: 0.0392608\tvalid_1's AMEX score: 0.0794247\n",
      "Early stopping, best iteration is:\n",
      "[1]\tvalid_0's AMEX score: 0.0392608\tvalid_1's AMEX score: 0.0794247\n"
     ]
    },
    {
     "name": "stderr",
     "output_type": "stream",
     "text": [
      "num_leaves, val_score: 0.079425: 100%|##########| 20/20 [00:01<00:00, 15.60it/s]\n",
      "bagging, val_score: 0.079425: 100%|##########| 10/10 [00:00<00:00, 14.27it/s]\n",
      "feature_fraction_stage2, val_score: 0.079425: 100%|##########| 6/6 [00:00<00:00, 14.63it/s]\n",
      "regularization_factors, val_score: 0.079425: 100%|##########| 20/20 [00:01<00:00, 15.08it/s]\n",
      "min_data_in_leaf, val_score: 0.079425: 100%|##########| 5/5 [00:00<00:00, 16.60it/s]\n"
     ]
    },
    {
     "name": "stdout",
     "output_type": "stream",
     "text": [
      "best_score defaultdict(<class 'collections.OrderedDict'>, {'valid_0': OrderedDict([('AMEX score', 0.0392607846601031)]), 'valid_1': OrderedDict([('AMEX score', 0.0794246904371299)])})\n",
      "train 800 valid 200\n"
     ]
    },
    {
     "name": "stderr",
     "output_type": "stream",
     "text": [
      "feature_fraction, val_score: 0.079425:  43%|####2     | 3/7 [00:00<00:00, 16.80it/s]"
     ]
    },
    {
     "name": "stdout",
     "output_type": "stream",
     "text": [
      "[LightGBM] [Warning] Unknown parameter: score\n",
      "[LightGBM] [Warning] min_data_in_leaf is set=198, min_child_samples=20 will be ignored. Current value: min_data_in_leaf=198\n",
      "Training until validation scores don't improve for 10 rounds\n",
      "Early stopping, best iteration is:\n",
      "[1]\tvalid_0's AMEX score: 0.0392608\tvalid_1's AMEX score: 0.0794247\n"
     ]
    },
    {
     "name": "stderr",
     "output_type": "stream",
     "text": [
      "feature_fraction, val_score: 0.079425: 100%|##########| 7/7 [00:00<00:00, 16.62it/s]\n"
     ]
    },
    {
     "name": "stdout",
     "output_type": "stream",
     "text": [
      "Early stopping, best iteration is:\n",
      "[1]\tvalid_0's AMEX score: 0.0392608\tvalid_1's AMEX score: 0.0794247\n",
      "Early stopping, best iteration is:\n",
      "[1]\tvalid_0's AMEX score: 0.0392608\tvalid_1's AMEX score: 0.0794247\n",
      "Early stopping, best iteration is:\n",
      "[1]\tvalid_0's AMEX score: 0.0392608\tvalid_1's AMEX score: 0.0794247\n"
     ]
    },
    {
     "name": "stderr",
     "output_type": "stream",
     "text": [
      "num_leaves, val_score: 0.079425:   5%|5         | 1/20 [00:00<00:01, 14.80it/s]"
     ]
    },
    {
     "name": "stdout",
     "output_type": "stream",
     "text": [
      "Early stopping, best iteration is:\n",
      "[1]\tvalid_0's AMEX score: 0.0392608\tvalid_1's AMEX score: 0.0794247\n"
     ]
    },
    {
     "name": "stderr",
     "output_type": "stream",
     "text": [
      "num_leaves, val_score: 0.079425:  20%|##        | 4/20 [00:00<00:01, 15.88it/s]"
     ]
    },
    {
     "name": "stdout",
     "output_type": "stream",
     "text": [
      "Early stopping, best iteration is:\n",
      "[1]\tvalid_0's AMEX score: 0.0392608\tvalid_1's AMEX score: 0.0794247\n",
      "Early stopping, best iteration is:\n",
      "[1]\tvalid_0's AMEX score: 0.0392608\tvalid_1's AMEX score: 0.0794247\n"
     ]
    },
    {
     "name": "stderr",
     "output_type": "stream",
     "text": [
      "num_leaves, val_score: 0.079425:  30%|###       | 6/20 [00:00<00:00, 15.90it/s]"
     ]
    },
    {
     "name": "stdout",
     "output_type": "stream",
     "text": [
      "Early stopping, best iteration is:\n",
      "[1]\tvalid_0's AMEX score: 0.0392608\tvalid_1's AMEX score: 0.0794247\n",
      "Early stopping, best iteration is:\n",
      "[1]\tvalid_0's AMEX score: 0.0392608\tvalid_1's AMEX score: 0.0794247\n"
     ]
    },
    {
     "name": "stderr",
     "output_type": "stream",
     "text": [
      "num_leaves, val_score: 0.079425:  40%|####      | 8/20 [00:00<00:00, 15.57it/s]"
     ]
    },
    {
     "name": "stdout",
     "output_type": "stream",
     "text": [
      "Early stopping, best iteration is:\n",
      "[1]\tvalid_0's AMEX score: 0.0392608\tvalid_1's AMEX score: 0.0794247\n"
     ]
    },
    {
     "name": "stderr",
     "output_type": "stream",
     "text": [
      "num_leaves, val_score: 0.079425:  55%|#####5    | 11/20 [00:00<00:00, 15.90it/s]"
     ]
    },
    {
     "name": "stdout",
     "output_type": "stream",
     "text": [
      "Early stopping, best iteration is:\n",
      "[1]\tvalid_0's AMEX score: 0.0392608\tvalid_1's AMEX score: 0.0794247\n",
      "Early stopping, best iteration is:\n",
      "[1]\tvalid_0's AMEX score: 0.0392608\tvalid_1's AMEX score: 0.0794247\n"
     ]
    },
    {
     "name": "stderr",
     "output_type": "stream",
     "text": [
      "num_leaves, val_score: 0.079425:  85%|########5 | 17/20 [00:01<00:00, 15.36it/s]"
     ]
    },
    {
     "name": "stdout",
     "output_type": "stream",
     "text": [
      "Early stopping, best iteration is:\n",
      "[1]\tvalid_0's AMEX score: 0.0392608\tvalid_1's AMEX score: 0.0794247\n",
      "Early stopping, best iteration is:\n",
      "[1]\tvalid_0's AMEX score: 0.0392608\tvalid_1's AMEX score: 0.0794247\n"
     ]
    },
    {
     "name": "stderr",
     "output_type": "stream",
     "text": [
      "num_leaves, val_score: 0.079425: 100%|##########| 20/20 [00:01<00:00, 15.05it/s]\n"
     ]
    },
    {
     "name": "stdout",
     "output_type": "stream",
     "text": [
      "Early stopping, best iteration is:\n",
      "[1]\tvalid_0's AMEX score: 0.0392608\tvalid_1's AMEX score: 0.0794247\n",
      "Early stopping, best iteration is:\n",
      "[1]\tvalid_0's AMEX score: 0.0392608\tvalid_1's AMEX score: 0.0794247\n",
      "Early stopping, best iteration is:\n",
      "[1]\tvalid_0's AMEX score: 0.0392608\tvalid_1's AMEX score: 0.0794247\n"
     ]
    },
    {
     "name": "stderr",
     "output_type": "stream",
     "text": [
      "bagging, val_score: 0.079425:  30%|###       | 3/10 [00:00<00:00, 10.95it/s]"
     ]
    },
    {
     "name": "stdout",
     "output_type": "stream",
     "text": [
      "Early stopping, best iteration is:\n",
      "[12]\tvalid_0's AMEX score: 0.617068\tvalid_1's AMEX score: 0.544918\n",
      "Early stopping, best iteration is:\n",
      "[12]\tvalid_0's AMEX score: 0.617068\tvalid_1's AMEX score: 0.544918\n",
      "Early stopping, best iteration is:\n",
      "[12]\tvalid_0's AMEX score: 0.617068\tvalid_1's AMEX score: 0.544918\n"
     ]
    },
    {
     "name": "stderr",
     "output_type": "stream",
     "text": [
      "bagging, val_score: 0.079425:  70%|#######   | 7/10 [00:00<00:00, 13.24it/s]"
     ]
    },
    {
     "name": "stdout",
     "output_type": "stream",
     "text": [
      "Early stopping, best iteration is:\n",
      "[12]\tvalid_0's AMEX score: 0.617068\tvalid_1's AMEX score: 0.544918\n",
      "Early stopping, best iteration is:\n",
      "[12]\tvalid_0's AMEX score: 0.617068\tvalid_1's AMEX score: 0.544918\n"
     ]
    },
    {
     "name": "stderr",
     "output_type": "stream",
     "text": [
      "bagging, val_score: 0.079425: 100%|##########| 10/10 [00:00<00:00, 12.97it/s]\n"
     ]
    },
    {
     "name": "stdout",
     "output_type": "stream",
     "text": [
      "Early stopping, best iteration is:\n",
      "[12]\tvalid_0's AMEX score: 0.617068\tvalid_1's AMEX score: 0.544918\n",
      "Early stopping, best iteration is:\n",
      "[12]\tvalid_0's AMEX score: 0.617068\tvalid_1's AMEX score: 0.544918\n"
     ]
    },
    {
     "name": "stderr",
     "output_type": "stream",
     "text": [
      "feature_fraction_stage2, val_score: 0.079425: 100%|##########| 6/6 [00:00<00:00, 16.49it/s]\n",
      "regularization_factors, val_score: 0.079425: 100%|##########| 20/20 [00:01<00:00, 14.22it/s]\n",
      "min_data_in_leaf, val_score: 0.079425: 100%|##########| 5/5 [00:00<00:00, 16.51it/s]\n"
     ]
    },
    {
     "name": "stdout",
     "output_type": "stream",
     "text": [
      "best_score defaultdict(<class 'collections.OrderedDict'>, {'valid_0': OrderedDict([('AMEX score', 0.0392607846601031)]), 'valid_1': OrderedDict([('AMEX score', 0.0794246904371299)])})\n",
      "train 800 valid 200\n"
     ]
    },
    {
     "name": "stderr",
     "output_type": "stream",
     "text": [
      "feature_fraction, val_score: 0.524108:  29%|##8       | 2/7 [00:00<00:00,  9.06it/s]"
     ]
    },
    {
     "name": "stdout",
     "output_type": "stream",
     "text": [
      "[LightGBM] [Warning] Unknown parameter: score\n",
      "[LightGBM] [Warning] min_data_in_leaf is set=155, min_child_samples=20 will be ignored. Current value: min_data_in_leaf=155\n",
      "Training until validation scores don't improve for 10 rounds\n"
     ]
    },
    {
     "name": "stderr",
     "output_type": "stream",
     "text": [
      "feature_fraction, val_score: 0.522566: 100%|##########| 7/7 [00:00<00:00, 11.79it/s]\n",
      "num_leaves, val_score: 0.522566: 100%|##########| 20/20 [00:01<00:00, 11.24it/s]\n",
      "bagging, val_score: 0.514549:  50%|#####     | 5/10 [00:00<00:00, 11.08it/s]"
     ]
    },
    {
     "name": "stdout",
     "output_type": "stream",
     "text": [
      "Early stopping, best iteration is:\n",
      "[64]\tvalid_0's AMEX score: 0.744886\tvalid_1's AMEX score: 0.618301\n"
     ]
    },
    {
     "name": "stderr",
     "output_type": "stream",
     "text": [
      "bagging, val_score: 0.427473:  90%|######### | 9/10 [00:00<00:00, 11.59it/s]"
     ]
    },
    {
     "name": "stdout",
     "output_type": "stream",
     "text": [
      "Early stopping, best iteration is:\n",
      "[64]\tvalid_0's AMEX score: 0.744886\tvalid_1's AMEX score: 0.618301\n"
     ]
    },
    {
     "name": "stderr",
     "output_type": "stream",
     "text": [
      "bagging, val_score: 0.427473: 100%|##########| 10/10 [00:00<00:00, 11.28it/s]\n",
      "feature_fraction_stage2, val_score: 0.427473: 100%|##########| 6/6 [00:00<00:00, 15.30it/s]\n",
      "regularization_factors, val_score: 0.409639: 100%|##########| 20/20 [00:01<00:00, 13.56it/s]\n",
      "min_data_in_leaf, val_score: 0.409639: 100%|##########| 5/5 [00:00<00:00, 13.11it/s]\n"
     ]
    },
    {
     "name": "stdout",
     "output_type": "stream",
     "text": [
      "best_score defaultdict(<class 'collections.OrderedDict'>, {'valid_0': OrderedDict([('AMEX score', 0.5364975103285803)]), 'valid_1': OrderedDict([('AMEX score', 0.4096386650857902)])})\n",
      "train 800 valid 200\n"
     ]
    },
    {
     "name": "stderr",
     "output_type": "stream",
     "text": [
      "feature_fraction, val_score: 0.079425:  29%|##8       | 2/7 [00:00<00:00, 14.00it/s]"
     ]
    },
    {
     "name": "stdout",
     "output_type": "stream",
     "text": [
      "[LightGBM] [Warning] Unknown parameter: score\n",
      "[LightGBM] [Warning] min_data_in_leaf is set=301, min_child_samples=20 will be ignored. Current value: min_data_in_leaf=301\n",
      "Training until validation scores don't improve for 10 rounds\n",
      "Early stopping, best iteration is:\n",
      "[1]\tvalid_0's AMEX score: 0.0392608\tvalid_1's AMEX score: 0.0794247\n",
      "Early stopping, best iteration is:\n",
      "[1]\tvalid_0's AMEX score: 0.0392608\tvalid_1's AMEX score: 0.0794247\n"
     ]
    },
    {
     "name": "stderr",
     "output_type": "stream",
     "text": [
      "feature_fraction, val_score: 0.079425: 100%|##########| 7/7 [00:00<00:00, 15.09it/s]\n"
     ]
    },
    {
     "name": "stdout",
     "output_type": "stream",
     "text": [
      "Early stopping, best iteration is:\n",
      "[1]\tvalid_0's AMEX score: 0.0392608\tvalid_1's AMEX score: 0.0794247\n",
      "Early stopping, best iteration is:\n",
      "[1]\tvalid_0's AMEX score: 0.0392608\tvalid_1's AMEX score: 0.0794247\n"
     ]
    },
    {
     "name": "stderr",
     "output_type": "stream",
     "text": [
      "num_leaves, val_score: 0.079425:   0%|          | 0/20 [00:00<?, ?it/s]"
     ]
    },
    {
     "name": "stdout",
     "output_type": "stream",
     "text": [
      "Early stopping, best iteration is:\n",
      "[1]\tvalid_0's AMEX score: 0.0392608\tvalid_1's AMEX score: 0.0794247\n"
     ]
    },
    {
     "name": "stderr",
     "output_type": "stream",
     "text": [
      "num_leaves, val_score: 0.079425:  15%|#5        | 3/20 [00:00<00:01, 13.39it/s]"
     ]
    },
    {
     "name": "stdout",
     "output_type": "stream",
     "text": [
      "Early stopping, best iteration is:\n",
      "[1]\tvalid_0's AMEX score: 0.0392608\tvalid_1's AMEX score: 0.0794247\n"
     ]
    },
    {
     "name": "stderr",
     "output_type": "stream",
     "text": [
      "num_leaves, val_score: 0.079425:  70%|#######   | 14/20 [00:00<00:00, 15.95it/s]"
     ]
    },
    {
     "name": "stdout",
     "output_type": "stream",
     "text": [
      "Early stopping, best iteration is:\n",
      "[1]\tvalid_0's AMEX score: 0.0392608\tvalid_1's AMEX score: 0.0794247\n"
     ]
    },
    {
     "name": "stderr",
     "output_type": "stream",
     "text": [
      "num_leaves, val_score: 0.079425: 100%|##########| 20/20 [00:01<00:00, 15.47it/s]\n"
     ]
    },
    {
     "name": "stdout",
     "output_type": "stream",
     "text": [
      "Early stopping, best iteration is:\n",
      "[1]\tvalid_0's AMEX score: 0.0392608\tvalid_1's AMEX score: 0.0794247\n",
      "Early stopping, best iteration is:\n",
      "[1]\tvalid_0's AMEX score: 0.0392608\tvalid_1's AMEX score: 0.0794247\n"
     ]
    },
    {
     "name": "stderr",
     "output_type": "stream",
     "text": [
      "bagging, val_score: 0.079425: 100%|##########| 10/10 [00:00<00:00, 11.88it/s]\n",
      "feature_fraction_stage2, val_score: 0.079425: 100%|##########| 6/6 [00:00<00:00, 14.62it/s]\n",
      "regularization_factors, val_score: 0.079425: 100%|##########| 20/20 [00:01<00:00, 13.30it/s]\n",
      "min_data_in_leaf, val_score: 0.079425: 100%|##########| 5/5 [00:00<00:00, 15.33it/s]\n"
     ]
    },
    {
     "name": "stdout",
     "output_type": "stream",
     "text": [
      "best_score defaultdict(<class 'collections.OrderedDict'>, {'valid_0': OrderedDict([('AMEX score', 0.0392607846601031)]), 'valid_1': OrderedDict([('AMEX score', 0.0794246904371299)])})\n",
      "train 800 valid 200\n"
     ]
    },
    {
     "name": "stderr",
     "output_type": "stream",
     "text": [
      "feature_fraction, val_score: 0.079425:  43%|####2     | 3/7 [00:00<00:00, 15.69it/s]"
     ]
    },
    {
     "name": "stdout",
     "output_type": "stream",
     "text": [
      "[LightGBM] [Warning] Unknown parameter: score\n",
      "[LightGBM] [Warning] min_data_in_leaf is set=303, min_child_samples=20 will be ignored. Current value: min_data_in_leaf=303\n",
      "Training until validation scores don't improve for 10 rounds\n"
     ]
    },
    {
     "name": "stderr",
     "output_type": "stream",
     "text": [
      "feature_fraction, val_score: 0.079425: 100%|##########| 7/7 [00:00<00:00, 16.59it/s]\n",
      "num_leaves, val_score: 0.079425:  20%|##        | 4/20 [00:00<00:00, 16.67it/s]"
     ]
    },
    {
     "name": "stdout",
     "output_type": "stream",
     "text": [
      "Early stopping, best iteration is:\n",
      "[1]\tvalid_0's AMEX score: 0.0392608\tvalid_1's AMEX score: 0.0794247\n",
      "Early stopping, best iteration is:\n",
      "[1]\tvalid_0's AMEX score: 0.0392608\tvalid_1's AMEX score: 0.0794247\n"
     ]
    },
    {
     "name": "stderr",
     "output_type": "stream",
     "text": [
      "num_leaves, val_score: 0.079425:  90%|######### | 18/20 [00:01<00:00, 15.45it/s]"
     ]
    },
    {
     "name": "stdout",
     "output_type": "stream",
     "text": [
      "Early stopping, best iteration is:\n",
      "[1]\tvalid_0's AMEX score: 0.0392608\tvalid_1's AMEX score: 0.0794247\n",
      "Early stopping, best iteration is:\n",
      "[1]\tvalid_0's AMEX score: 0.0392608\tvalid_1's AMEX score: 0.0794247\n",
      "Early stopping, best iteration is:\n",
      "[1]\tvalid_0's AMEX score: 0.0392608\tvalid_1's AMEX score: 0.0794247\n"
     ]
    },
    {
     "name": "stderr",
     "output_type": "stream",
     "text": [
      "num_leaves, val_score: 0.079425: 100%|##########| 20/20 [00:01<00:00, 15.72it/s]\n",
      "bagging, val_score: 0.079425: 100%|##########| 10/10 [00:00<00:00, 15.07it/s]\n"
     ]
    },
    {
     "name": "stdout",
     "output_type": "stream",
     "text": [
      "Early stopping, best iteration is:\n",
      "[18]\tvalid_0's AMEX score: 0.535954\tvalid_1's AMEX score: 0.450475\n"
     ]
    },
    {
     "name": "stderr",
     "output_type": "stream",
     "text": [
      "feature_fraction_stage2, val_score: 0.079425: 100%|##########| 6/6 [00:00<00:00, 16.43it/s]\n",
      "regularization_factors, val_score: 0.079425: 100%|##########| 20/20 [00:01<00:00, 14.43it/s]\n",
      "min_data_in_leaf, val_score: 0.079425: 100%|##########| 5/5 [00:00<00:00, 15.58it/s]\n"
     ]
    },
    {
     "name": "stdout",
     "output_type": "stream",
     "text": [
      "best_score defaultdict(<class 'collections.OrderedDict'>, {'valid_0': OrderedDict([('AMEX score', 0.0392607846601031)]), 'valid_1': OrderedDict([('AMEX score', 0.0794246904371299)])})\n",
      "train 800 valid 200\n"
     ]
    },
    {
     "name": "stderr",
     "output_type": "stream",
     "text": [
      "feature_fraction, val_score: 0.497110:  29%|##8       | 2/7 [00:00<00:00, 11.70it/s]"
     ]
    },
    {
     "name": "stdout",
     "output_type": "stream",
     "text": [
      "[LightGBM] [Warning] Unknown parameter: score\n",
      "[LightGBM] [Warning] min_data_in_leaf is set=81, min_child_samples=20 will be ignored. Current value: min_data_in_leaf=81\n",
      "Training until validation scores don't improve for 10 rounds\n"
     ]
    },
    {
     "name": "stderr",
     "output_type": "stream",
     "text": [
      "feature_fraction, val_score: 0.497110: 100%|##########| 7/7 [00:00<00:00, 11.26it/s]\n"
     ]
    },
    {
     "name": "stdout",
     "output_type": "stream",
     "text": [
      "Early stopping, best iteration is:\n",
      "[23]\tvalid_0's AMEX score: 0.694228\tvalid_1's AMEX score: 0.579928\n",
      "Early stopping, best iteration is:\n",
      "[23]\tvalid_0's AMEX score: 0.694228\tvalid_1's AMEX score: 0.579928\n",
      "Early stopping, best iteration is:\n",
      "[23]\tvalid_0's AMEX score: 0.694228\tvalid_1's AMEX score: 0.579928\n"
     ]
    },
    {
     "name": "stderr",
     "output_type": "stream",
     "text": [
      "num_leaves, val_score: 0.497110: 100%|##########| 20/20 [00:01<00:00, 12.64it/s]\n",
      "bagging, val_score: 0.497110:  30%|###       | 3/10 [00:00<00:00, 11.05it/s]"
     ]
    },
    {
     "name": "stdout",
     "output_type": "stream",
     "text": [
      "Early stopping, best iteration is:\n",
      "[23]\tvalid_0's AMEX score: 0.694228\tvalid_1's AMEX score: 0.579928\n"
     ]
    },
    {
     "name": "stderr",
     "output_type": "stream",
     "text": [
      "bagging, val_score: 0.486135: 100%|##########| 10/10 [00:00<00:00, 10.74it/s]\n",
      "feature_fraction_stage2, val_score: 0.486135: 100%|##########| 6/6 [00:00<00:00,  9.53it/s]\n",
      "regularization_factors, val_score: 0.486135: 100%|##########| 20/20 [00:01<00:00, 12.27it/s]\n",
      "min_data_in_leaf, val_score: 0.486135: 100%|##########| 5/5 [00:00<00:00, 14.09it/s]\n"
     ]
    },
    {
     "name": "stdout",
     "output_type": "stream",
     "text": [
      "best_score defaultdict(<class 'collections.OrderedDict'>, {'valid_0': OrderedDict([('AMEX score', 0.48383354336153206)]), 'valid_1': OrderedDict([('AMEX score', 0.4861351434907132)])})\n",
      "train 800 valid 200\n"
     ]
    },
    {
     "name": "stderr",
     "output_type": "stream",
     "text": [
      "feature_fraction, val_score: 0.531212:  29%|##8       | 2/7 [00:00<00:00, 12.41it/s]"
     ]
    },
    {
     "name": "stdout",
     "output_type": "stream",
     "text": [
      "[LightGBM] [Warning] Unknown parameter: score\n",
      "[LightGBM] [Warning] min_data_in_leaf is set=140, min_child_samples=20 will be ignored. Current value: min_data_in_leaf=140\n",
      "Training until validation scores don't improve for 10 rounds\n",
      "Early stopping, best iteration is:\n",
      "[22]\tvalid_0's AMEX score: 0.657851\tvalid_1's AMEX score: 0.531212\n"
     ]
    },
    {
     "name": "stderr",
     "output_type": "stream",
     "text": [
      "feature_fraction, val_score: 0.510041:  71%|#######1  | 5/7 [00:00<00:00, 12.07it/s]"
     ]
    },
    {
     "name": "stdout",
     "output_type": "stream",
     "text": [
      "Early stopping, best iteration is:\n",
      "[22]\tvalid_0's AMEX score: 0.657851\tvalid_1's AMEX score: 0.531212\n",
      "Early stopping, best iteration is:\n",
      "[22]\tvalid_0's AMEX score: 0.657851\tvalid_1's AMEX score: 0.531212\n"
     ]
    },
    {
     "name": "stderr",
     "output_type": "stream",
     "text": [
      "feature_fraction, val_score: 0.510041: 100%|##########| 7/7 [00:00<00:00, 11.56it/s]\n",
      "num_leaves, val_score: 0.494764:  15%|#5        | 3/20 [00:00<00:01, 11.44it/s]"
     ]
    },
    {
     "name": "stdout",
     "output_type": "stream",
     "text": [
      "Early stopping, best iteration is:\n",
      "[32]\tvalid_0's AMEX score: 0.692095\tvalid_1's AMEX score: 0.494764\n"
     ]
    },
    {
     "name": "stderr",
     "output_type": "stream",
     "text": [
      "num_leaves, val_score: 0.494764:  60%|######    | 12/20 [00:01<00:00, 10.58it/s]"
     ]
    },
    {
     "name": "stdout",
     "output_type": "stream",
     "text": [
      "Early stopping, best iteration is:\n",
      "[32]\tvalid_0's AMEX score: 0.692095\tvalid_1's AMEX score: 0.494764\n",
      "Early stopping, best iteration is:\n",
      "[32]\tvalid_0's AMEX score: 0.692095\tvalid_1's AMEX score: 0.494764\n"
     ]
    },
    {
     "name": "stderr",
     "output_type": "stream",
     "text": [
      "num_leaves, val_score: 0.494764:  75%|#######5  | 15/20 [00:01<00:00, 10.07it/s]"
     ]
    },
    {
     "name": "stdout",
     "output_type": "stream",
     "text": [
      "Early stopping, best iteration is:\n",
      "[32]\tvalid_0's AMEX score: 0.692095\tvalid_1's AMEX score: 0.494764\n"
     ]
    },
    {
     "name": "stderr",
     "output_type": "stream",
     "text": [
      "num_leaves, val_score: 0.494764:  90%|######### | 18/20 [00:01<00:00, 10.91it/s]"
     ]
    },
    {
     "name": "stdout",
     "output_type": "stream",
     "text": [
      "Early stopping, best iteration is:\n",
      "[32]\tvalid_0's AMEX score: 0.692095\tvalid_1's AMEX score: 0.494764\n"
     ]
    },
    {
     "name": "stderr",
     "output_type": "stream",
     "text": [
      "num_leaves, val_score: 0.494764: 100%|##########| 20/20 [00:01<00:00, 11.11it/s]\n"
     ]
    },
    {
     "name": "stdout",
     "output_type": "stream",
     "text": [
      "Early stopping, best iteration is:\n",
      "[32]\tvalid_0's AMEX score: 0.692095\tvalid_1's AMEX score: 0.494764\n"
     ]
    },
    {
     "name": "stderr",
     "output_type": "stream",
     "text": [
      "bagging, val_score: 0.494764:  30%|###       | 3/10 [00:00<00:00, 10.67it/s]"
     ]
    },
    {
     "name": "stdout",
     "output_type": "stream",
     "text": [
      "Early stopping, best iteration is:\n",
      "[32]\tvalid_0's AMEX score: 0.692095\tvalid_1's AMEX score: 0.494764\n",
      "Early stopping, best iteration is:\n",
      "[32]\tvalid_0's AMEX score: 0.692095\tvalid_1's AMEX score: 0.494764\n",
      "Early stopping, best iteration is:\n",
      "[32]\tvalid_0's AMEX score: 0.692095\tvalid_1's AMEX score: 0.494764\n"
     ]
    },
    {
     "name": "stderr",
     "output_type": "stream",
     "text": [
      "bagging, val_score: 0.494764:  60%|######    | 6/10 [00:00<00:00, 10.07it/s]"
     ]
    },
    {
     "name": "stdout",
     "output_type": "stream",
     "text": [
      "Early stopping, best iteration is:\n",
      "[32]\tvalid_0's AMEX score: 0.692095\tvalid_1's AMEX score: 0.494764\n",
      "Early stopping, best iteration is:\n",
      "[32]\tvalid_0's AMEX score: 0.692095\tvalid_1's AMEX score: 0.494764\n"
     ]
    },
    {
     "name": "stderr",
     "output_type": "stream",
     "text": [
      "bagging, val_score: 0.429015:  90%|######### | 9/10 [00:00<00:00, 10.55it/s]"
     ]
    },
    {
     "name": "stdout",
     "output_type": "stream",
     "text": [
      "Early stopping, best iteration is:\n",
      "[32]\tvalid_0's AMEX score: 0.692095\tvalid_1's AMEX score: 0.494764\n",
      "Early stopping, best iteration is:\n",
      "[32]\tvalid_0's AMEX score: 0.692095\tvalid_1's AMEX score: 0.494764\n"
     ]
    },
    {
     "name": "stderr",
     "output_type": "stream",
     "text": [
      "bagging, val_score: 0.429015: 100%|##########| 10/10 [00:00<00:00, 10.33it/s]\n"
     ]
    },
    {
     "name": "stdout",
     "output_type": "stream",
     "text": [
      "Early stopping, best iteration is:\n",
      "[32]\tvalid_0's AMEX score: 0.692095\tvalid_1's AMEX score: 0.494764\n"
     ]
    },
    {
     "name": "stderr",
     "output_type": "stream",
     "text": [
      "feature_fraction_stage2, val_score: 0.404988: 100%|##########| 3/3 [00:00<00:00, 12.09it/s]\n",
      "regularization_factors, val_score: 0.404988: 100%|##########| 20/20 [00:01<00:00, 12.36it/s]\n",
      "min_data_in_leaf, val_score: 0.404988: 100%|##########| 5/5 [00:00<00:00, 12.86it/s]"
     ]
    },
    {
     "name": "stdout",
     "output_type": "stream",
     "text": [
      "best_score defaultdict(<class 'collections.OrderedDict'>, {'valid_0': OrderedDict([('AMEX score', 0.5263168550862001)]), 'valid_1': OrderedDict([('AMEX score', 0.40498840957362614)])})\n"
     ]
    },
    {
     "name": "stderr",
     "output_type": "stream",
     "text": [
      "\n"
     ]
    }
   ],
   "source": [
    "optuna.logging.set_verbosity(optuna.logging.ERROR)\n",
    "study = optuna.create_study()\n",
    "study.optimize(objective, timeout=60*0.5)"
   ]
  },
  {
   "cell_type": "code",
   "execution_count": 11,
   "id": "50beffd0",
   "metadata": {},
   "outputs": [],
   "source": [
    "\n",
    "\n",
    "params_last = {\n",
    "        #type\n",
    "        'objective': 'binary',\n",
    "        \"boosting\": \"gbdt\",\n",
    "        \"metric\": \"AMEX score\",\n",
    "        \"verbose\": -1,\n",
    "        #tree structure\n",
    "        'num_leaves': 33,\n",
    "        'max_depth': 5,\n",
    "        'min_data_in_leaf': 25,\n",
    "        #accuracy\n",
    "        \"learning_rate\": 0.1,\n",
    "        #regularization\n",
    "        'lambda_l1': 0.0009192401584865857,\n",
    "        'lambda_l2': 0.011545006628700807,\n",
    "        'min_gain_to_split': 3,\n",
    "        #bagging\n",
    "        \"bagging_freq\": 1,\n",
    "        \"bagging_fraction\": 0.46461405788976207,\n",
    "        \"feature_fraction\": 0.5,\n",
    "        'seed':123,\n",
    "    }"
   ]
  },
  {
   "cell_type": "code",
   "execution_count": 13,
   "id": "826b0fa3",
   "metadata": {},
   "outputs": [
    {
     "name": "stderr",
     "output_type": "stream",
     "text": [
      "\u001b[32m[I 2022-06-23 08:24:06,590]\u001b[0m A new study created in memory with name: no-name-b124e6fe-b7e8-4b2a-aaa7-300d00ec12b0\u001b[0m\n"
     ]
    },
    {
     "name": "stdout",
     "output_type": "stream",
     "text": [
      "train 800 valid 200\n",
      "training LGB:\n"
     ]
    },
    {
     "name": "stderr",
     "output_type": "stream",
     "text": [
      "feature_fraction, val_score: inf:   0%|          | 0/7 [00:00<?, ?it/s]/Users/rikuta/miniforge3/envs/env/lib/python3.8/site-packages/lightgbm/engine.py:181: UserWarning: 'early_stopping_rounds' argument is deprecated and will be removed in a future release of LightGBM. Pass 'early_stopping()' callback via 'callbacks' argument instead.\n",
      "  _log_warning(\"'early_stopping_rounds' argument is deprecated and will be removed in a future release of LightGBM. \"\n",
      "/Users/rikuta/miniforge3/envs/env/lib/python3.8/site-packages/lightgbm/engine.py:239: UserWarning: 'verbose_eval' argument is deprecated and will be removed in a future release of LightGBM. Pass 'log_evaluation()' callback via 'callbacks' argument instead.\n",
      "  _log_warning(\"'verbose_eval' argument is deprecated and will be removed in a future release of LightGBM. \"\n",
      "feature_fraction, val_score: 0.549688:  14%|#4        | 1/7 [00:00<00:00,  9.48it/s]\u001b[32m[I 2022-06-23 08:24:06,702]\u001b[0m Trial 0 finished with value: 0.5496883012040759 and parameters: {'feature_fraction': 1.0}. Best is trial 0 with value: 0.5496883012040759.\u001b[0m\n",
      "feature_fraction, val_score: 0.549688:  14%|#4        | 1/7 [00:00<00:00,  9.48it/s]"
     ]
    },
    {
     "name": "stdout",
     "output_type": "stream",
     "text": [
      "[LightGBM] [Warning] Unknown parameter: score\n",
      "[LightGBM] [Warning] min_data_in_leaf is set=25, min_child_samples=20 will be ignored. Current value: min_data_in_leaf=25\n",
      "Training until validation scores don't improve for 10 rounds\n",
      "Training until validation scores don't improve for 10 rounds\n",
      "Early stopping, best iteration is:\n",
      "[10]\tvalid_0's AMEX score: 0.730371\tvalid_1's AMEX score: 0.549688\n",
      "Training until validation scores don't improve for 10 rounds\n"
     ]
    },
    {
     "name": "stderr",
     "output_type": "stream",
     "text": [
      "/Users/rikuta/miniforge3/envs/env/lib/python3.8/site-packages/lightgbm/engine.py:181: UserWarning: 'early_stopping_rounds' argument is deprecated and will be removed in a future release of LightGBM. Pass 'early_stopping()' callback via 'callbacks' argument instead.\n",
      "  _log_warning(\"'early_stopping_rounds' argument is deprecated and will be removed in a future release of LightGBM. \"\n",
      "/Users/rikuta/miniforge3/envs/env/lib/python3.8/site-packages/lightgbm/engine.py:239: UserWarning: 'verbose_eval' argument is deprecated and will be removed in a future release of LightGBM. Pass 'log_evaluation()' callback via 'callbacks' argument instead.\n",
      "  _log_warning(\"'verbose_eval' argument is deprecated and will be removed in a future release of LightGBM. \"\n",
      "feature_fraction, val_score: 0.549688:  29%|##8       | 2/7 [00:00<00:00,  7.36it/s]\u001b[32m[I 2022-06-23 08:24:06,858]\u001b[0m Trial 1 finished with value: 0.5769524510453115 and parameters: {'feature_fraction': 0.7}. Best is trial 0 with value: 0.5496883012040759.\u001b[0m\n",
      "feature_fraction, val_score: 0.549688:  29%|##8       | 2/7 [00:00<00:00,  7.36it/s]/Users/rikuta/miniforge3/envs/env/lib/python3.8/site-packages/lightgbm/engine.py:181: UserWarning: 'early_stopping_rounds' argument is deprecated and will be removed in a future release of LightGBM. Pass 'early_stopping()' callback via 'callbacks' argument instead.\n",
      "  _log_warning(\"'early_stopping_rounds' argument is deprecated and will be removed in a future release of LightGBM. \"\n",
      "/Users/rikuta/miniforge3/envs/env/lib/python3.8/site-packages/lightgbm/engine.py:239: UserWarning: 'verbose_eval' argument is deprecated and will be removed in a future release of LightGBM. Pass 'log_evaluation()' callback via 'callbacks' argument instead.\n",
      "  _log_warning(\"'verbose_eval' argument is deprecated and will be removed in a future release of LightGBM. \"\n",
      "feature_fraction, val_score: 0.549688:  29%|##8       | 2/7 [00:00<00:00,  7.36it/s]\u001b[32m[I 2022-06-23 08:24:06,952]\u001b[0m Trial 2 finished with value: 0.5769524510453115 and parameters: {'feature_fraction': 0.8999999999999999}. Best is trial 0 with value: 0.5496883012040759.\u001b[0m\n",
      "feature_fraction, val_score: 0.549688:  43%|####2     | 3/7 [00:00<00:00,  7.36it/s]/Users/rikuta/miniforge3/envs/env/lib/python3.8/site-packages/lightgbm/engine.py:181: UserWarning: 'early_stopping_rounds' argument is deprecated and will be removed in a future release of LightGBM. Pass 'early_stopping()' callback via 'callbacks' argument instead.\n",
      "  _log_warning(\"'early_stopping_rounds' argument is deprecated and will be removed in a future release of LightGBM. \"\n",
      "/Users/rikuta/miniforge3/envs/env/lib/python3.8/site-packages/lightgbm/engine.py:239: UserWarning: 'verbose_eval' argument is deprecated and will be removed in a future release of LightGBM. Pass 'log_evaluation()' callback via 'callbacks' argument instead.\n",
      "  _log_warning(\"'verbose_eval' argument is deprecated and will be removed in a future release of LightGBM. \"\n",
      "feature_fraction, val_score: 0.549688:  57%|#####7    | 4/7 [00:00<00:00,  9.80it/s]\u001b[32m[I 2022-06-23 08:24:07,023]\u001b[0m Trial 3 finished with value: 0.5822528734013862 and parameters: {'feature_fraction': 0.4}. Best is trial 0 with value: 0.5496883012040759.\u001b[0m\n",
      "feature_fraction, val_score: 0.549688:  57%|#####7    | 4/7 [00:00<00:00,  9.80it/s]"
     ]
    },
    {
     "name": "stdout",
     "output_type": "stream",
     "text": [
      "Early stopping, best iteration is:\n",
      "[15]\tvalid_0's AMEX score: 0.724935\tvalid_1's AMEX score: 0.576952\n",
      "Training until validation scores don't improve for 10 rounds\n",
      "Early stopping, best iteration is:\n",
      "[15]\tvalid_0's AMEX score: 0.724935\tvalid_1's AMEX score: 0.576952\n",
      "Training until validation scores don't improve for 10 rounds\n",
      "Early stopping, best iteration is:\n",
      "[6]\tvalid_0's AMEX score: 0.652872\tvalid_1's AMEX score: 0.582253\n"
     ]
    },
    {
     "name": "stderr",
     "output_type": "stream",
     "text": [
      "/Users/rikuta/miniforge3/envs/env/lib/python3.8/site-packages/lightgbm/engine.py:181: UserWarning: 'early_stopping_rounds' argument is deprecated and will be removed in a future release of LightGBM. Pass 'early_stopping()' callback via 'callbacks' argument instead.\n",
      "  _log_warning(\"'early_stopping_rounds' argument is deprecated and will be removed in a future release of LightGBM. \"\n",
      "/Users/rikuta/miniforge3/envs/env/lib/python3.8/site-packages/lightgbm/engine.py:239: UserWarning: 'verbose_eval' argument is deprecated and will be removed in a future release of LightGBM. Pass 'log_evaluation()' callback via 'callbacks' argument instead.\n",
      "  _log_warning(\"'verbose_eval' argument is deprecated and will be removed in a future release of LightGBM. \"\n",
      "feature_fraction, val_score: 0.549688:  57%|#####7    | 4/7 [00:00<00:00,  9.80it/s]\u001b[32m[I 2022-06-23 08:24:07,108]\u001b[0m Trial 4 finished with value: 0.5822528734013862 and parameters: {'feature_fraction': 0.5}. Best is trial 0 with value: 0.5496883012040759.\u001b[0m\n",
      "feature_fraction, val_score: 0.549688:  71%|#######1  | 5/7 [00:00<00:00,  9.80it/s]/Users/rikuta/miniforge3/envs/env/lib/python3.8/site-packages/lightgbm/engine.py:181: UserWarning: 'early_stopping_rounds' argument is deprecated and will be removed in a future release of LightGBM. Pass 'early_stopping()' callback via 'callbacks' argument instead.\n",
      "  _log_warning(\"'early_stopping_rounds' argument is deprecated and will be removed in a future release of LightGBM. \"\n",
      "/Users/rikuta/miniforge3/envs/env/lib/python3.8/site-packages/lightgbm/engine.py:239: UserWarning: 'verbose_eval' argument is deprecated and will be removed in a future release of LightGBM. Pass 'log_evaluation()' callback via 'callbacks' argument instead.\n",
      "  _log_warning(\"'verbose_eval' argument is deprecated and will be removed in a future release of LightGBM. \"\n",
      "feature_fraction, val_score: 0.549688:  86%|########5 | 6/7 [00:00<00:00,  9.11it/s]\u001b[32m[I 2022-06-23 08:24:07,260]\u001b[0m Trial 5 finished with value: 0.6198551955189255 and parameters: {'feature_fraction': 0.6}. Best is trial 0 with value: 0.5496883012040759.\u001b[0m\n",
      "feature_fraction, val_score: 0.549688:  86%|########5 | 6/7 [00:00<00:00,  9.11it/s]"
     ]
    },
    {
     "name": "stdout",
     "output_type": "stream",
     "text": [
      "Training until validation scores don't improve for 10 rounds\n",
      "Early stopping, best iteration is:\n",
      "[6]\tvalid_0's AMEX score: 0.652872\tvalid_1's AMEX score: 0.582253\n",
      "Training until validation scores don't improve for 10 rounds\n",
      "Early stopping, best iteration is:\n",
      "[9]\tvalid_0's AMEX score: 0.694211\tvalid_1's AMEX score: 0.619855\n"
     ]
    },
    {
     "name": "stderr",
     "output_type": "stream",
     "text": [
      "/Users/rikuta/miniforge3/envs/env/lib/python3.8/site-packages/lightgbm/engine.py:181: UserWarning: 'early_stopping_rounds' argument is deprecated and will be removed in a future release of LightGBM. Pass 'early_stopping()' callback via 'callbacks' argument instead.\n",
      "  _log_warning(\"'early_stopping_rounds' argument is deprecated and will be removed in a future release of LightGBM. \"\n",
      "/Users/rikuta/miniforge3/envs/env/lib/python3.8/site-packages/lightgbm/engine.py:239: UserWarning: 'verbose_eval' argument is deprecated and will be removed in a future release of LightGBM. Pass 'log_evaluation()' callback via 'callbacks' argument instead.\n",
      "  _log_warning(\"'verbose_eval' argument is deprecated and will be removed in a future release of LightGBM. \"\n",
      "feature_fraction, val_score: 0.549688: 100%|##########| 7/7 [00:00<00:00,  9.30it/s]\u001b[32m[I 2022-06-23 08:24:07,360]\u001b[0m Trial 6 finished with value: 0.6198551955189255 and parameters: {'feature_fraction': 0.8}. Best is trial 0 with value: 0.5496883012040759.\u001b[0m\n",
      "feature_fraction, val_score: 0.549688: 100%|##########| 7/7 [00:00<00:00,  9.12it/s]\n"
     ]
    },
    {
     "name": "stdout",
     "output_type": "stream",
     "text": [
      "Training until validation scores don't improve for 10 rounds\n",
      "Early stopping, best iteration is:\n",
      "[9]\tvalid_0's AMEX score: 0.694211\tvalid_1's AMEX score: 0.619855\n"
     ]
    },
    {
     "name": "stderr",
     "output_type": "stream",
     "text": [
      "num_leaves, val_score: 0.549688:   0%|          | 0/20 [00:00<?, ?it/s]/Users/rikuta/miniforge3/envs/env/lib/python3.8/site-packages/lightgbm/engine.py:181: UserWarning: 'early_stopping_rounds' argument is deprecated and will be removed in a future release of LightGBM. Pass 'early_stopping()' callback via 'callbacks' argument instead.\n",
      "  _log_warning(\"'early_stopping_rounds' argument is deprecated and will be removed in a future release of LightGBM. \"\n",
      "/Users/rikuta/miniforge3/envs/env/lib/python3.8/site-packages/lightgbm/engine.py:239: UserWarning: 'verbose_eval' argument is deprecated and will be removed in a future release of LightGBM. Pass 'log_evaluation()' callback via 'callbacks' argument instead.\n",
      "  _log_warning(\"'verbose_eval' argument is deprecated and will be removed in a future release of LightGBM. \"\n"
     ]
    },
    {
     "name": "stdout",
     "output_type": "stream",
     "text": [
      "Training until validation scores don't improve for 10 rounds\n"
     ]
    },
    {
     "name": "stderr",
     "output_type": "stream",
     "text": [
      "num_leaves, val_score: 0.549688:   5%|5         | 1/20 [00:00<00:03,  5.80it/s]\u001b[32m[I 2022-06-23 08:24:07,541]\u001b[0m Trial 7 finished with value: 0.6198551955189255 and parameters: {'num_leaves': 31}. Best is trial 7 with value: 0.6198551955189255.\u001b[0m\n",
      "num_leaves, val_score: 0.549688:   5%|5         | 1/20 [00:00<00:03,  5.80it/s]/Users/rikuta/miniforge3/envs/env/lib/python3.8/site-packages/lightgbm/engine.py:181: UserWarning: 'early_stopping_rounds' argument is deprecated and will be removed in a future release of LightGBM. Pass 'early_stopping()' callback via 'callbacks' argument instead.\n",
      "  _log_warning(\"'early_stopping_rounds' argument is deprecated and will be removed in a future release of LightGBM. \"\n",
      "/Users/rikuta/miniforge3/envs/env/lib/python3.8/site-packages/lightgbm/engine.py:239: UserWarning: 'verbose_eval' argument is deprecated and will be removed in a future release of LightGBM. Pass 'log_evaluation()' callback via 'callbacks' argument instead.\n",
      "  _log_warning(\"'verbose_eval' argument is deprecated and will be removed in a future release of LightGBM. \"\n",
      "num_leaves, val_score: 0.549688:   5%|5         | 1/20 [00:00<00:03,  5.80it/s]\u001b[32m[I 2022-06-23 08:24:07,635]\u001b[0m Trial 8 finished with value: 0.6198551955189255 and parameters: {'num_leaves': 8}. Best is trial 7 with value: 0.6198551955189255.\u001b[0m\n",
      "num_leaves, val_score: 0.549688:  10%|#         | 2/20 [00:00<00:03,  5.80it/s]/Users/rikuta/miniforge3/envs/env/lib/python3.8/site-packages/lightgbm/engine.py:181: UserWarning: 'early_stopping_rounds' argument is deprecated and will be removed in a future release of LightGBM. Pass 'early_stopping()' callback via 'callbacks' argument instead.\n",
      "  _log_warning(\"'early_stopping_rounds' argument is deprecated and will be removed in a future release of LightGBM. \"\n",
      "/Users/rikuta/miniforge3/envs/env/lib/python3.8/site-packages/lightgbm/engine.py:239: UserWarning: 'verbose_eval' argument is deprecated and will be removed in a future release of LightGBM. Pass 'log_evaluation()' callback via 'callbacks' argument instead.\n",
      "  _log_warning(\"'verbose_eval' argument is deprecated and will be removed in a future release of LightGBM. \"\n",
      "num_leaves, val_score: 0.549688:  15%|#5        | 3/20 [00:00<00:01,  9.51it/s]\u001b[32m[I 2022-06-23 08:24:07,705]\u001b[0m Trial 9 finished with value: 0.6198551955189255 and parameters: {'num_leaves': 14}. Best is trial 7 with value: 0.6198551955189255.\u001b[0m\n",
      "num_leaves, val_score: 0.549688:  15%|#5        | 3/20 [00:00<00:01,  9.51it/s]"
     ]
    },
    {
     "name": "stdout",
     "output_type": "stream",
     "text": [
      "Early stopping, best iteration is:\n",
      "[9]\tvalid_0's AMEX score: 0.694211\tvalid_1's AMEX score: 0.619855\n",
      "Training until validation scores don't improve for 10 rounds\n",
      "Early stopping, best iteration is:\n",
      "[9]\tvalid_0's AMEX score: 0.694211\tvalid_1's AMEX score: 0.619855\n",
      "Training until validation scores don't improve for 10 rounds\n",
      "Early stopping, best iteration is:\n",
      "[9]\tvalid_0's AMEX score: 0.694211\tvalid_1's AMEX score: 0.619855\n"
     ]
    },
    {
     "name": "stderr",
     "output_type": "stream",
     "text": [
      "/Users/rikuta/miniforge3/envs/env/lib/python3.8/site-packages/lightgbm/engine.py:181: UserWarning: 'early_stopping_rounds' argument is deprecated and will be removed in a future release of LightGBM. Pass 'early_stopping()' callback via 'callbacks' argument instead.\n",
      "  _log_warning(\"'early_stopping_rounds' argument is deprecated and will be removed in a future release of LightGBM. \"\n",
      "/Users/rikuta/miniforge3/envs/env/lib/python3.8/site-packages/lightgbm/engine.py:239: UserWarning: 'verbose_eval' argument is deprecated and will be removed in a future release of LightGBM. Pass 'log_evaluation()' callback via 'callbacks' argument instead.\n",
      "  _log_warning(\"'verbose_eval' argument is deprecated and will be removed in a future release of LightGBM. \"\n",
      "num_leaves, val_score: 0.549688:  15%|#5        | 3/20 [00:00<00:01,  9.51it/s]\u001b[32m[I 2022-06-23 08:24:07,798]\u001b[0m Trial 10 finished with value: 0.6198551955189255 and parameters: {'num_leaves': 30}. Best is trial 7 with value: 0.6198551955189255.\u001b[0m\n",
      "num_leaves, val_score: 0.549688:  20%|##        | 4/20 [00:00<00:01,  9.51it/s]/Users/rikuta/miniforge3/envs/env/lib/python3.8/site-packages/lightgbm/engine.py:181: UserWarning: 'early_stopping_rounds' argument is deprecated and will be removed in a future release of LightGBM. Pass 'early_stopping()' callback via 'callbacks' argument instead.\n",
      "  _log_warning(\"'early_stopping_rounds' argument is deprecated and will be removed in a future release of LightGBM. \"\n",
      "/Users/rikuta/miniforge3/envs/env/lib/python3.8/site-packages/lightgbm/engine.py:239: UserWarning: 'verbose_eval' argument is deprecated and will be removed in a future release of LightGBM. Pass 'log_evaluation()' callback via 'callbacks' argument instead.\n",
      "  _log_warning(\"'verbose_eval' argument is deprecated and will be removed in a future release of LightGBM. \"\n",
      "num_leaves, val_score: 0.549688:  25%|##5       | 5/20 [00:00<00:01,  9.12it/s]\u001b[32m[I 2022-06-23 08:24:07,933]\u001b[0m Trial 11 finished with value: 0.6198551955189255 and parameters: {'num_leaves': 23}. Best is trial 7 with value: 0.6198551955189255.\u001b[0m\n",
      "num_leaves, val_score: 0.549688:  25%|##5       | 5/20 [00:00<00:01,  9.12it/s]"
     ]
    },
    {
     "name": "stdout",
     "output_type": "stream",
     "text": [
      "Training until validation scores don't improve for 10 rounds\n",
      "Early stopping, best iteration is:\n",
      "[9]\tvalid_0's AMEX score: 0.694211\tvalid_1's AMEX score: 0.619855\n",
      "Training until validation scores don't improve for 10 rounds\n",
      "Early stopping, best iteration is:\n",
      "[9]\tvalid_0's AMEX score: 0.694211\tvalid_1's AMEX score: 0.619855\n"
     ]
    },
    {
     "name": "stderr",
     "output_type": "stream",
     "text": [
      "/Users/rikuta/miniforge3/envs/env/lib/python3.8/site-packages/lightgbm/engine.py:181: UserWarning: 'early_stopping_rounds' argument is deprecated and will be removed in a future release of LightGBM. Pass 'early_stopping()' callback via 'callbacks' argument instead.\n",
      "  _log_warning(\"'early_stopping_rounds' argument is deprecated and will be removed in a future release of LightGBM. \"\n",
      "/Users/rikuta/miniforge3/envs/env/lib/python3.8/site-packages/lightgbm/engine.py:239: UserWarning: 'verbose_eval' argument is deprecated and will be removed in a future release of LightGBM. Pass 'log_evaluation()' callback via 'callbacks' argument instead.\n",
      "  _log_warning(\"'verbose_eval' argument is deprecated and will be removed in a future release of LightGBM. \"\n",
      "num_leaves, val_score: 0.549688:  30%|###       | 6/20 [00:00<00:01,  9.00it/s]\u001b[32m[I 2022-06-23 08:24:08,048]\u001b[0m Trial 12 finished with value: 0.6198551955189255 and parameters: {'num_leaves': 31}. Best is trial 7 with value: 0.6198551955189255.\u001b[0m\n",
      "num_leaves, val_score: 0.549688:  30%|###       | 6/20 [00:00<00:01,  9.00it/s]/Users/rikuta/miniforge3/envs/env/lib/python3.8/site-packages/lightgbm/engine.py:181: UserWarning: 'early_stopping_rounds' argument is deprecated and will be removed in a future release of LightGBM. Pass 'early_stopping()' callback via 'callbacks' argument instead.\n",
      "  _log_warning(\"'early_stopping_rounds' argument is deprecated and will be removed in a future release of LightGBM. \"\n",
      "/Users/rikuta/miniforge3/envs/env/lib/python3.8/site-packages/lightgbm/engine.py:239: UserWarning: 'verbose_eval' argument is deprecated and will be removed in a future release of LightGBM. Pass 'log_evaluation()' callback via 'callbacks' argument instead.\n",
      "  _log_warning(\"'verbose_eval' argument is deprecated and will be removed in a future release of LightGBM. \"\n",
      "num_leaves, val_score: 0.549688:  30%|###       | 6/20 [00:00<00:01,  9.00it/s]\u001b[32m[I 2022-06-23 08:24:08,126]\u001b[0m Trial 13 finished with value: 0.6198551955189255 and parameters: {'num_leaves': 5}. Best is trial 7 with value: 0.6198551955189255.\u001b[0m\n",
      "num_leaves, val_score: 0.549688:  35%|###5      | 7/20 [00:00<00:01,  9.00it/s]/Users/rikuta/miniforge3/envs/env/lib/python3.8/site-packages/lightgbm/engine.py:181: UserWarning: 'early_stopping_rounds' argument is deprecated and will be removed in a future release of LightGBM. Pass 'early_stopping()' callback via 'callbacks' argument instead.\n",
      "  _log_warning(\"'early_stopping_rounds' argument is deprecated and will be removed in a future release of LightGBM. \"\n",
      "/Users/rikuta/miniforge3/envs/env/lib/python3.8/site-packages/lightgbm/engine.py:239: UserWarning: 'verbose_eval' argument is deprecated and will be removed in a future release of LightGBM. Pass 'log_evaluation()' callback via 'callbacks' argument instead.\n",
      "  _log_warning(\"'verbose_eval' argument is deprecated and will be removed in a future release of LightGBM. \"\n",
      "num_leaves, val_score: 0.549688:  40%|####      | 8/20 [00:00<00:01, 10.38it/s]\u001b[32m[I 2022-06-23 08:24:08,202]\u001b[0m Trial 14 finished with value: 0.6198551955189255 and parameters: {'num_leaves': 22}. Best is trial 7 with value: 0.6198551955189255.\u001b[0m\n",
      "num_leaves, val_score: 0.549688:  40%|####      | 8/20 [00:00<00:01, 10.38it/s]"
     ]
    },
    {
     "name": "stdout",
     "output_type": "stream",
     "text": [
      "Training until validation scores don't improve for 10 rounds\n",
      "Early stopping, best iteration is:\n",
      "[9]\tvalid_0's AMEX score: 0.694211\tvalid_1's AMEX score: 0.619855\n",
      "Training until validation scores don't improve for 10 rounds\n",
      "Early stopping, best iteration is:\n",
      "[9]\tvalid_0's AMEX score: 0.694211\tvalid_1's AMEX score: 0.619855\n",
      "Training until validation scores don't improve for 10 rounds\n",
      "Early stopping, best iteration is:\n",
      "[9]\tvalid_0's AMEX score: 0.694211\tvalid_1's AMEX score: 0.619855\n"
     ]
    },
    {
     "name": "stderr",
     "output_type": "stream",
     "text": [
      "/Users/rikuta/miniforge3/envs/env/lib/python3.8/site-packages/lightgbm/engine.py:181: UserWarning: 'early_stopping_rounds' argument is deprecated and will be removed in a future release of LightGBM. Pass 'early_stopping()' callback via 'callbacks' argument instead.\n",
      "  _log_warning(\"'early_stopping_rounds' argument is deprecated and will be removed in a future release of LightGBM. \"\n",
      "/Users/rikuta/miniforge3/envs/env/lib/python3.8/site-packages/lightgbm/engine.py:239: UserWarning: 'verbose_eval' argument is deprecated and will be removed in a future release of LightGBM. Pass 'log_evaluation()' callback via 'callbacks' argument instead.\n",
      "  _log_warning(\"'verbose_eval' argument is deprecated and will be removed in a future release of LightGBM. \"\n",
      "num_leaves, val_score: 0.549688:  40%|####      | 8/20 [00:00<00:01, 10.38it/s]\u001b[32m[I 2022-06-23 08:24:08,296]\u001b[0m Trial 15 finished with value: 0.6198551955189255 and parameters: {'num_leaves': 28}. Best is trial 7 with value: 0.6198551955189255.\u001b[0m\n",
      "num_leaves, val_score: 0.549688:  45%|####5     | 9/20 [00:00<00:01, 10.38it/s]/Users/rikuta/miniforge3/envs/env/lib/python3.8/site-packages/lightgbm/engine.py:181: UserWarning: 'early_stopping_rounds' argument is deprecated and will be removed in a future release of LightGBM. Pass 'early_stopping()' callback via 'callbacks' argument instead.\n",
      "  _log_warning(\"'early_stopping_rounds' argument is deprecated and will be removed in a future release of LightGBM. \"\n",
      "/Users/rikuta/miniforge3/envs/env/lib/python3.8/site-packages/lightgbm/engine.py:239: UserWarning: 'verbose_eval' argument is deprecated and will be removed in a future release of LightGBM. Pass 'log_evaluation()' callback via 'callbacks' argument instead.\n",
      "  _log_warning(\"'verbose_eval' argument is deprecated and will be removed in a future release of LightGBM. \"\n",
      "num_leaves, val_score: 0.549688:  50%|#####     | 10/20 [00:01<00:00, 10.61it/s]\u001b[32m[I 2022-06-23 08:24:08,384]\u001b[0m Trial 16 finished with value: 0.6198551955189255 and parameters: {'num_leaves': 22}. Best is trial 7 with value: 0.6198551955189255.\u001b[0m\n",
      "num_leaves, val_score: 0.549688:  50%|#####     | 10/20 [00:01<00:00, 10.61it/s]/Users/rikuta/miniforge3/envs/env/lib/python3.8/site-packages/lightgbm/engine.py:181: UserWarning: 'early_stopping_rounds' argument is deprecated and will be removed in a future release of LightGBM. Pass 'early_stopping()' callback via 'callbacks' argument instead.\n",
      "  _log_warning(\"'early_stopping_rounds' argument is deprecated and will be removed in a future release of LightGBM. \"\n",
      "/Users/rikuta/miniforge3/envs/env/lib/python3.8/site-packages/lightgbm/engine.py:239: UserWarning: 'verbose_eval' argument is deprecated and will be removed in a future release of LightGBM. Pass 'log_evaluation()' callback via 'callbacks' argument instead.\n",
      "  _log_warning(\"'verbose_eval' argument is deprecated and will be removed in a future release of LightGBM. \"\n"
     ]
    },
    {
     "name": "stdout",
     "output_type": "stream",
     "text": [
      "Training until validation scores don't improve for 10 rounds\n",
      "Early stopping, best iteration is:\n",
      "[9]\tvalid_0's AMEX score: 0.694211\tvalid_1's AMEX score: 0.619855\n",
      "Training until validation scores don't improve for 10 rounds\n",
      "Early stopping, best iteration is:\n",
      "[9]\tvalid_0's AMEX score: 0.694211\tvalid_1's AMEX score: 0.619855\n",
      "Training until validation scores don't improve for 10 rounds\n"
     ]
    },
    {
     "name": "stderr",
     "output_type": "stream",
     "text": [
      "num_leaves, val_score: 0.549688:  50%|#####     | 10/20 [00:01<00:00, 10.61it/s]\u001b[32m[I 2022-06-23 08:24:08,475]\u001b[0m Trial 17 finished with value: 0.6198551955189255 and parameters: {'num_leaves': 15}. Best is trial 7 with value: 0.6198551955189255.\u001b[0m\n",
      "num_leaves, val_score: 0.549688:  55%|#####5    | 11/20 [00:01<00:00, 10.61it/s]/Users/rikuta/miniforge3/envs/env/lib/python3.8/site-packages/lightgbm/engine.py:181: UserWarning: 'early_stopping_rounds' argument is deprecated and will be removed in a future release of LightGBM. Pass 'early_stopping()' callback via 'callbacks' argument instead.\n",
      "  _log_warning(\"'early_stopping_rounds' argument is deprecated and will be removed in a future release of LightGBM. \"\n",
      "/Users/rikuta/miniforge3/envs/env/lib/python3.8/site-packages/lightgbm/engine.py:239: UserWarning: 'verbose_eval' argument is deprecated and will be removed in a future release of LightGBM. Pass 'log_evaluation()' callback via 'callbacks' argument instead.\n",
      "  _log_warning(\"'verbose_eval' argument is deprecated and will be removed in a future release of LightGBM. \"\n",
      "num_leaves, val_score: 0.549688:  60%|######    | 12/20 [00:01<00:00, 10.81it/s]\u001b[32m[I 2022-06-23 08:24:08,562]\u001b[0m Trial 18 finished with value: 0.6198551955189255 and parameters: {'num_leaves': 5}. Best is trial 7 with value: 0.6198551955189255.\u001b[0m\n",
      "num_leaves, val_score: 0.549688:  60%|######    | 12/20 [00:01<00:00, 10.81it/s]/Users/rikuta/miniforge3/envs/env/lib/python3.8/site-packages/lightgbm/engine.py:181: UserWarning: 'early_stopping_rounds' argument is deprecated and will be removed in a future release of LightGBM. Pass 'early_stopping()' callback via 'callbacks' argument instead.\n",
      "  _log_warning(\"'early_stopping_rounds' argument is deprecated and will be removed in a future release of LightGBM. \"\n",
      "/Users/rikuta/miniforge3/envs/env/lib/python3.8/site-packages/lightgbm/engine.py:239: UserWarning: 'verbose_eval' argument is deprecated and will be removed in a future release of LightGBM. Pass 'log_evaluation()' callback via 'callbacks' argument instead.\n",
      "  _log_warning(\"'verbose_eval' argument is deprecated and will be removed in a future release of LightGBM. \"\n",
      "num_leaves, val_score: 0.549688:  60%|######    | 12/20 [00:01<00:00, 10.81it/s]\u001b[32m[I 2022-06-23 08:24:08,647]\u001b[0m Trial 19 finished with value: 0.6198551955189255 and parameters: {'num_leaves': 10}. Best is trial 7 with value: 0.6198551955189255.\u001b[0m\n",
      "num_leaves, val_score: 0.549688:  65%|######5   | 13/20 [00:01<00:00, 10.81it/s]"
     ]
    },
    {
     "name": "stdout",
     "output_type": "stream",
     "text": [
      "Early stopping, best iteration is:\n",
      "[9]\tvalid_0's AMEX score: 0.694211\tvalid_1's AMEX score: 0.619855\n",
      "Training until validation scores don't improve for 10 rounds\n",
      "Early stopping, best iteration is:\n",
      "[9]\tvalid_0's AMEX score: 0.694211\tvalid_1's AMEX score: 0.619855\n",
      "Training until validation scores don't improve for 10 rounds\n",
      "Early stopping, best iteration is:\n",
      "[9]\tvalid_0's AMEX score: 0.694211\tvalid_1's AMEX score: 0.619855\n"
     ]
    },
    {
     "name": "stderr",
     "output_type": "stream",
     "text": [
      "/Users/rikuta/miniforge3/envs/env/lib/python3.8/site-packages/lightgbm/engine.py:181: UserWarning: 'early_stopping_rounds' argument is deprecated and will be removed in a future release of LightGBM. Pass 'early_stopping()' callback via 'callbacks' argument instead.\n",
      "  _log_warning(\"'early_stopping_rounds' argument is deprecated and will be removed in a future release of LightGBM. \"\n",
      "/Users/rikuta/miniforge3/envs/env/lib/python3.8/site-packages/lightgbm/engine.py:239: UserWarning: 'verbose_eval' argument is deprecated and will be removed in a future release of LightGBM. Pass 'log_evaluation()' callback via 'callbacks' argument instead.\n",
      "  _log_warning(\"'verbose_eval' argument is deprecated and will be removed in a future release of LightGBM. \"\n",
      "num_leaves, val_score: 0.549688:  70%|#######   | 14/20 [00:01<00:00, 11.16it/s]\u001b[32m[I 2022-06-23 08:24:08,730]\u001b[0m Trial 20 finished with value: 0.6198551955189255 and parameters: {'num_leaves': 9}. Best is trial 7 with value: 0.6198551955189255.\u001b[0m\n",
      "num_leaves, val_score: 0.549688:  70%|#######   | 14/20 [00:01<00:00, 11.16it/s]/Users/rikuta/miniforge3/envs/env/lib/python3.8/site-packages/lightgbm/engine.py:181: UserWarning: 'early_stopping_rounds' argument is deprecated and will be removed in a future release of LightGBM. Pass 'early_stopping()' callback via 'callbacks' argument instead.\n",
      "  _log_warning(\"'early_stopping_rounds' argument is deprecated and will be removed in a future release of LightGBM. \"\n",
      "/Users/rikuta/miniforge3/envs/env/lib/python3.8/site-packages/lightgbm/engine.py:239: UserWarning: 'verbose_eval' argument is deprecated and will be removed in a future release of LightGBM. Pass 'log_evaluation()' callback via 'callbacks' argument instead.\n",
      "  _log_warning(\"'verbose_eval' argument is deprecated and will be removed in a future release of LightGBM. \"\n",
      "num_leaves, val_score: 0.549688:  70%|#######   | 14/20 [00:01<00:00, 11.16it/s]\u001b[32m[I 2022-06-23 08:24:08,812]\u001b[0m Trial 21 finished with value: 0.6198551955189255 and parameters: {'num_leaves': 18}. Best is trial 7 with value: 0.6198551955189255.\u001b[0m\n",
      "num_leaves, val_score: 0.549688:  75%|#######5  | 15/20 [00:01<00:00, 11.16it/s]/Users/rikuta/miniforge3/envs/env/lib/python3.8/site-packages/lightgbm/engine.py:181: UserWarning: 'early_stopping_rounds' argument is deprecated and will be removed in a future release of LightGBM. Pass 'early_stopping()' callback via 'callbacks' argument instead.\n",
      "  _log_warning(\"'early_stopping_rounds' argument is deprecated and will be removed in a future release of LightGBM. \"\n",
      "/Users/rikuta/miniforge3/envs/env/lib/python3.8/site-packages/lightgbm/engine.py:239: UserWarning: 'verbose_eval' argument is deprecated and will be removed in a future release of LightGBM. Pass 'log_evaluation()' callback via 'callbacks' argument instead.\n",
      "  _log_warning(\"'verbose_eval' argument is deprecated and will be removed in a future release of LightGBM. \"\n",
      "num_leaves, val_score: 0.549688:  80%|########  | 16/20 [00:01<00:00, 11.54it/s]\u001b[32m[I 2022-06-23 08:24:08,891]\u001b[0m Trial 22 finished with value: 0.6198551955189255 and parameters: {'num_leaves': 2}. Best is trial 7 with value: 0.6198551955189255.\u001b[0m\n",
      "num_leaves, val_score: 0.549688:  80%|########  | 16/20 [00:01<00:00, 11.54it/s]"
     ]
    },
    {
     "name": "stdout",
     "output_type": "stream",
     "text": [
      "Training until validation scores don't improve for 10 rounds\n",
      "Early stopping, best iteration is:\n",
      "[9]\tvalid_0's AMEX score: 0.694211\tvalid_1's AMEX score: 0.619855\n",
      "Training until validation scores don't improve for 10 rounds\n",
      "Early stopping, best iteration is:\n",
      "[9]\tvalid_0's AMEX score: 0.694211\tvalid_1's AMEX score: 0.619855\n",
      "Training until validation scores don't improve for 10 rounds\n",
      "Early stopping, best iteration is:\n",
      "[9]\tvalid_0's AMEX score: 0.694211\tvalid_1's AMEX score: 0.619855\n"
     ]
    },
    {
     "name": "stderr",
     "output_type": "stream",
     "text": [
      "/Users/rikuta/miniforge3/envs/env/lib/python3.8/site-packages/lightgbm/engine.py:181: UserWarning: 'early_stopping_rounds' argument is deprecated and will be removed in a future release of LightGBM. Pass 'early_stopping()' callback via 'callbacks' argument instead.\n",
      "  _log_warning(\"'early_stopping_rounds' argument is deprecated and will be removed in a future release of LightGBM. \"\n",
      "/Users/rikuta/miniforge3/envs/env/lib/python3.8/site-packages/lightgbm/engine.py:239: UserWarning: 'verbose_eval' argument is deprecated and will be removed in a future release of LightGBM. Pass 'log_evaluation()' callback via 'callbacks' argument instead.\n",
      "  _log_warning(\"'verbose_eval' argument is deprecated and will be removed in a future release of LightGBM. \"\n",
      "num_leaves, val_score: 0.549688:  80%|########  | 16/20 [00:01<00:00, 11.54it/s]\u001b[32m[I 2022-06-23 08:24:09,027]\u001b[0m Trial 23 finished with value: 0.6198551955189255 and parameters: {'num_leaves': 26}. Best is trial 7 with value: 0.6198551955189255.\u001b[0m\n",
      "num_leaves, val_score: 0.549688:  85%|########5 | 17/20 [00:01<00:00, 11.54it/s]/Users/rikuta/miniforge3/envs/env/lib/python3.8/site-packages/lightgbm/engine.py:181: UserWarning: 'early_stopping_rounds' argument is deprecated and will be removed in a future release of LightGBM. Pass 'early_stopping()' callback via 'callbacks' argument instead.\n",
      "  _log_warning(\"'early_stopping_rounds' argument is deprecated and will be removed in a future release of LightGBM. \"\n",
      "/Users/rikuta/miniforge3/envs/env/lib/python3.8/site-packages/lightgbm/engine.py:239: UserWarning: 'verbose_eval' argument is deprecated and will be removed in a future release of LightGBM. Pass 'log_evaluation()' callback via 'callbacks' argument instead.\n",
      "  _log_warning(\"'verbose_eval' argument is deprecated and will be removed in a future release of LightGBM. \"\n",
      "num_leaves, val_score: 0.549688:  90%|######### | 18/20 [00:01<00:00, 10.26it/s]\u001b[32m[I 2022-06-23 08:24:09,132]\u001b[0m Trial 24 finished with value: 0.6198551955189255 and parameters: {'num_leaves': 19}. Best is trial 7 with value: 0.6198551955189255.\u001b[0m\n",
      "num_leaves, val_score: 0.549688:  90%|######### | 18/20 [00:01<00:00, 10.26it/s]"
     ]
    },
    {
     "name": "stdout",
     "output_type": "stream",
     "text": [
      "Training until validation scores don't improve for 10 rounds\n",
      "Early stopping, best iteration is:\n",
      "[9]\tvalid_0's AMEX score: 0.694211\tvalid_1's AMEX score: 0.619855\n",
      "Training until validation scores don't improve for 10 rounds\n",
      "Early stopping, best iteration is:\n",
      "[9]\tvalid_0's AMEX score: 0.694211\tvalid_1's AMEX score: 0.619855\n"
     ]
    },
    {
     "name": "stderr",
     "output_type": "stream",
     "text": [
      "/Users/rikuta/miniforge3/envs/env/lib/python3.8/site-packages/lightgbm/engine.py:181: UserWarning: 'early_stopping_rounds' argument is deprecated and will be removed in a future release of LightGBM. Pass 'early_stopping()' callback via 'callbacks' argument instead.\n",
      "  _log_warning(\"'early_stopping_rounds' argument is deprecated and will be removed in a future release of LightGBM. \"\n",
      "/Users/rikuta/miniforge3/envs/env/lib/python3.8/site-packages/lightgbm/engine.py:239: UserWarning: 'verbose_eval' argument is deprecated and will be removed in a future release of LightGBM. Pass 'log_evaluation()' callback via 'callbacks' argument instead.\n",
      "  _log_warning(\"'verbose_eval' argument is deprecated and will be removed in a future release of LightGBM. \"\n",
      "num_leaves, val_score: 0.549688:  90%|######### | 18/20 [00:01<00:00, 10.26it/s]\u001b[32m[I 2022-06-23 08:24:09,228]\u001b[0m Trial 25 finished with value: 0.6198551955189255 and parameters: {'num_leaves': 2}. Best is trial 7 with value: 0.6198551955189255.\u001b[0m\n",
      "num_leaves, val_score: 0.549688:  95%|#########5| 19/20 [00:01<00:00, 10.26it/s]/Users/rikuta/miniforge3/envs/env/lib/python3.8/site-packages/lightgbm/engine.py:181: UserWarning: 'early_stopping_rounds' argument is deprecated and will be removed in a future release of LightGBM. Pass 'early_stopping()' callback via 'callbacks' argument instead.\n",
      "  _log_warning(\"'early_stopping_rounds' argument is deprecated and will be removed in a future release of LightGBM. \"\n",
      "/Users/rikuta/miniforge3/envs/env/lib/python3.8/site-packages/lightgbm/engine.py:239: UserWarning: 'verbose_eval' argument is deprecated and will be removed in a future release of LightGBM. Pass 'log_evaluation()' callback via 'callbacks' argument instead.\n",
      "  _log_warning(\"'verbose_eval' argument is deprecated and will be removed in a future release of LightGBM. \"\n",
      "num_leaves, val_score: 0.549688: 100%|##########| 20/20 [00:01<00:00, 10.50it/s]\u001b[32m[I 2022-06-23 08:24:09,313]\u001b[0m Trial 26 finished with value: 0.6198551955189255 and parameters: {'num_leaves': 26}. Best is trial 7 with value: 0.6198551955189255.\u001b[0m\n",
      "num_leaves, val_score: 0.549688: 100%|##########| 20/20 [00:01<00:00, 10.26it/s]\n"
     ]
    },
    {
     "name": "stdout",
     "output_type": "stream",
     "text": [
      "Training until validation scores don't improve for 10 rounds\n",
      "Early stopping, best iteration is:\n",
      "[9]\tvalid_0's AMEX score: 0.694211\tvalid_1's AMEX score: 0.619855\n",
      "Training until validation scores don't improve for 10 rounds\n",
      "Early stopping, best iteration is:\n",
      "[9]\tvalid_0's AMEX score: 0.694211\tvalid_1's AMEX score: 0.619855\n"
     ]
    },
    {
     "name": "stderr",
     "output_type": "stream",
     "text": [
      "bagging, val_score: 0.549688:   0%|          | 0/10 [00:00<?, ?it/s]/Users/rikuta/miniforge3/envs/env/lib/python3.8/site-packages/lightgbm/engine.py:181: UserWarning: 'early_stopping_rounds' argument is deprecated and will be removed in a future release of LightGBM. Pass 'early_stopping()' callback via 'callbacks' argument instead.\n",
      "  _log_warning(\"'early_stopping_rounds' argument is deprecated and will be removed in a future release of LightGBM. \"\n",
      "/Users/rikuta/miniforge3/envs/env/lib/python3.8/site-packages/lightgbm/engine.py:239: UserWarning: 'verbose_eval' argument is deprecated and will be removed in a future release of LightGBM. Pass 'log_evaluation()' callback via 'callbacks' argument instead.\n",
      "  _log_warning(\"'verbose_eval' argument is deprecated and will be removed in a future release of LightGBM. \"\n",
      "bagging, val_score: 0.525399:   0%|          | 0/10 [00:00<?, ?it/s]\u001b[32m[I 2022-06-23 08:24:09,402]\u001b[0m Trial 27 finished with value: 0.5253994459628332 and parameters: {'bagging_fraction': 0.9211160956703538, 'bagging_freq': 2}. Best is trial 27 with value: 0.5253994459628332.\u001b[0m\n",
      "bagging, val_score: 0.525399:  10%|#         | 1/10 [00:00<00:00, 12.10it/s]"
     ]
    },
    {
     "name": "stdout",
     "output_type": "stream",
     "text": [
      "Training until validation scores don't improve for 10 rounds\n",
      "Early stopping, best iteration is:\n",
      "[1]\tvalid_0's AMEX score: 0.645585\tvalid_1's AMEX score: 0.525399\n"
     ]
    },
    {
     "name": "stderr",
     "output_type": "stream",
     "text": [
      "/Users/rikuta/miniforge3/envs/env/lib/python3.8/site-packages/lightgbm/engine.py:181: UserWarning: 'early_stopping_rounds' argument is deprecated and will be removed in a future release of LightGBM. Pass 'early_stopping()' callback via 'callbacks' argument instead.\n",
      "  _log_warning(\"'early_stopping_rounds' argument is deprecated and will be removed in a future release of LightGBM. \"\n",
      "/Users/rikuta/miniforge3/envs/env/lib/python3.8/site-packages/lightgbm/engine.py:239: UserWarning: 'verbose_eval' argument is deprecated and will be removed in a future release of LightGBM. Pass 'log_evaluation()' callback via 'callbacks' argument instead.\n",
      "  _log_warning(\"'verbose_eval' argument is deprecated and will be removed in a future release of LightGBM. \"\n",
      "bagging, val_score: 0.525399:  20%|##        | 2/10 [00:00<00:00, 11.72it/s]\u001b[32m[I 2022-06-23 08:24:09,493]\u001b[0m Trial 28 finished with value: 0.6198551955189255 and parameters: {'bagging_fraction': 0.6572764460515179, 'bagging_freq': 6}. Best is trial 27 with value: 0.5253994459628332.\u001b[0m\n",
      "bagging, val_score: 0.525399:  20%|##        | 2/10 [00:00<00:00, 11.72it/s]/Users/rikuta/miniforge3/envs/env/lib/python3.8/site-packages/lightgbm/engine.py:181: UserWarning: 'early_stopping_rounds' argument is deprecated and will be removed in a future release of LightGBM. Pass 'early_stopping()' callback via 'callbacks' argument instead.\n",
      "  _log_warning(\"'early_stopping_rounds' argument is deprecated and will be removed in a future release of LightGBM. \"\n",
      "/Users/rikuta/miniforge3/envs/env/lib/python3.8/site-packages/lightgbm/engine.py:239: UserWarning: 'verbose_eval' argument is deprecated and will be removed in a future release of LightGBM. Pass 'log_evaluation()' callback via 'callbacks' argument instead.\n",
      "  _log_warning(\"'verbose_eval' argument is deprecated and will be removed in a future release of LightGBM. \"\n",
      "bagging, val_score: 0.525399:  20%|##        | 2/10 [00:00<00:00, 11.72it/s]\u001b[32m[I 2022-06-23 08:24:09,575]\u001b[0m Trial 29 finished with value: 0.6198551955189255 and parameters: {'bagging_fraction': 0.5816852146543796, 'bagging_freq': 2}. Best is trial 27 with value: 0.5253994459628332.\u001b[0m\n",
      "bagging, val_score: 0.525399:  30%|###       | 3/10 [00:00<00:00, 11.72it/s]"
     ]
    },
    {
     "name": "stdout",
     "output_type": "stream",
     "text": [
      "Training until validation scores don't improve for 10 rounds\n",
      "Early stopping, best iteration is:\n",
      "[9]\tvalid_0's AMEX score: 0.694211\tvalid_1's AMEX score: 0.619855\n",
      "Training until validation scores don't improve for 10 rounds\n",
      "Early stopping, best iteration is:\n",
      "[9]\tvalid_0's AMEX score: 0.694211\tvalid_1's AMEX score: 0.619855\n"
     ]
    },
    {
     "name": "stderr",
     "output_type": "stream",
     "text": [
      "/Users/rikuta/miniforge3/envs/env/lib/python3.8/site-packages/lightgbm/engine.py:181: UserWarning: 'early_stopping_rounds' argument is deprecated and will be removed in a future release of LightGBM. Pass 'early_stopping()' callback via 'callbacks' argument instead.\n",
      "  _log_warning(\"'early_stopping_rounds' argument is deprecated and will be removed in a future release of LightGBM. \"\n",
      "/Users/rikuta/miniforge3/envs/env/lib/python3.8/site-packages/lightgbm/engine.py:239: UserWarning: 'verbose_eval' argument is deprecated and will be removed in a future release of LightGBM. Pass 'log_evaluation()' callback via 'callbacks' argument instead.\n",
      "  _log_warning(\"'verbose_eval' argument is deprecated and will be removed in a future release of LightGBM. \"\n"
     ]
    },
    {
     "name": "stdout",
     "output_type": "stream",
     "text": [
      "Training until validation scores don't improve for 10 rounds\n"
     ]
    },
    {
     "name": "stderr",
     "output_type": "stream",
     "text": [
      "bagging, val_score: 0.525399:  40%|####      | 4/10 [00:00<00:00, 11.55it/s]\u001b[32m[I 2022-06-23 08:24:09,668]\u001b[0m Trial 30 finished with value: 0.6198551955189255 and parameters: {'bagging_fraction': 0.6406906478569289, 'bagging_freq': 5}. Best is trial 27 with value: 0.5253994459628332.\u001b[0m\n",
      "bagging, val_score: 0.525399:  40%|####      | 4/10 [00:00<00:00, 11.55it/s]/Users/rikuta/miniforge3/envs/env/lib/python3.8/site-packages/lightgbm/engine.py:181: UserWarning: 'early_stopping_rounds' argument is deprecated and will be removed in a future release of LightGBM. Pass 'early_stopping()' callback via 'callbacks' argument instead.\n",
      "  _log_warning(\"'early_stopping_rounds' argument is deprecated and will be removed in a future release of LightGBM. \"\n",
      "/Users/rikuta/miniforge3/envs/env/lib/python3.8/site-packages/lightgbm/engine.py:239: UserWarning: 'verbose_eval' argument is deprecated and will be removed in a future release of LightGBM. Pass 'log_evaluation()' callback via 'callbacks' argument instead.\n",
      "  _log_warning(\"'verbose_eval' argument is deprecated and will be removed in a future release of LightGBM. \"\n",
      "bagging, val_score: 0.525399:  40%|####      | 4/10 [00:00<00:00, 11.55it/s]\u001b[32m[I 2022-06-23 08:24:09,767]\u001b[0m Trial 31 finished with value: 0.6198551955189255 and parameters: {'bagging_fraction': 0.5295071380797092, 'bagging_freq': 6}. Best is trial 27 with value: 0.5253994459628332.\u001b[0m\n",
      "bagging, val_score: 0.525399:  50%|#####     | 5/10 [00:00<00:00, 11.55it/s]/Users/rikuta/miniforge3/envs/env/lib/python3.8/site-packages/lightgbm/engine.py:181: UserWarning: 'early_stopping_rounds' argument is deprecated and will be removed in a future release of LightGBM. Pass 'early_stopping()' callback via 'callbacks' argument instead.\n",
      "  _log_warning(\"'early_stopping_rounds' argument is deprecated and will be removed in a future release of LightGBM. \"\n",
      "/Users/rikuta/miniforge3/envs/env/lib/python3.8/site-packages/lightgbm/engine.py:239: UserWarning: 'verbose_eval' argument is deprecated and will be removed in a future release of LightGBM. Pass 'log_evaluation()' callback via 'callbacks' argument instead.\n",
      "  _log_warning(\"'verbose_eval' argument is deprecated and will be removed in a future release of LightGBM. \"\n"
     ]
    },
    {
     "name": "stdout",
     "output_type": "stream",
     "text": [
      "Early stopping, best iteration is:\n",
      "[9]\tvalid_0's AMEX score: 0.694211\tvalid_1's AMEX score: 0.619855\n",
      "Training until validation scores don't improve for 10 rounds\n",
      "Early stopping, best iteration is:\n",
      "[9]\tvalid_0's AMEX score: 0.694211\tvalid_1's AMEX score: 0.619855\n",
      "Training until validation scores don't improve for 10 rounds\n"
     ]
    },
    {
     "name": "stderr",
     "output_type": "stream",
     "text": [
      "bagging, val_score: 0.525399:  60%|######    | 6/10 [00:00<00:00, 11.32it/s]\u001b[32m[I 2022-06-23 08:24:09,849]\u001b[0m Trial 32 finished with value: 0.6198551955189255 and parameters: {'bagging_fraction': 0.40519132128665014, 'bagging_freq': 7}. Best is trial 27 with value: 0.5253994459628332.\u001b[0m\n",
      "bagging, val_score: 0.525399:  60%|######    | 6/10 [00:00<00:00, 11.32it/s]"
     ]
    },
    {
     "name": "stdout",
     "output_type": "stream",
     "text": [
      "Early stopping, best iteration is:\n",
      "[9]\tvalid_0's AMEX score: 0.694211\tvalid_1's AMEX score: 0.619855\n"
     ]
    },
    {
     "name": "stderr",
     "output_type": "stream",
     "text": [
      "/Users/rikuta/miniforge3/envs/env/lib/python3.8/site-packages/lightgbm/engine.py:181: UserWarning: 'early_stopping_rounds' argument is deprecated and will be removed in a future release of LightGBM. Pass 'early_stopping()' callback via 'callbacks' argument instead.\n",
      "  _log_warning(\"'early_stopping_rounds' argument is deprecated and will be removed in a future release of LightGBM. \"\n",
      "/Users/rikuta/miniforge3/envs/env/lib/python3.8/site-packages/lightgbm/engine.py:239: UserWarning: 'verbose_eval' argument is deprecated and will be removed in a future release of LightGBM. Pass 'log_evaluation()' callback via 'callbacks' argument instead.\n",
      "  _log_warning(\"'verbose_eval' argument is deprecated and will be removed in a future release of LightGBM. \"\n",
      "bagging, val_score: 0.525399:  60%|######    | 6/10 [00:00<00:00, 11.32it/s]\u001b[32m[I 2022-06-23 08:24:09,933]\u001b[0m Trial 33 finished with value: 0.6198551955189255 and parameters: {'bagging_fraction': 0.706442725234733, 'bagging_freq': 6}. Best is trial 27 with value: 0.5253994459628332.\u001b[0m\n",
      "bagging, val_score: 0.525399:  70%|#######   | 7/10 [00:00<00:00, 11.32it/s]/Users/rikuta/miniforge3/envs/env/lib/python3.8/site-packages/lightgbm/engine.py:181: UserWarning: 'early_stopping_rounds' argument is deprecated and will be removed in a future release of LightGBM. Pass 'early_stopping()' callback via 'callbacks' argument instead.\n",
      "  _log_warning(\"'early_stopping_rounds' argument is deprecated and will be removed in a future release of LightGBM. \"\n",
      "/Users/rikuta/miniforge3/envs/env/lib/python3.8/site-packages/lightgbm/engine.py:239: UserWarning: 'verbose_eval' argument is deprecated and will be removed in a future release of LightGBM. Pass 'log_evaluation()' callback via 'callbacks' argument instead.\n",
      "  _log_warning(\"'verbose_eval' argument is deprecated and will be removed in a future release of LightGBM. \"\n",
      "bagging, val_score: 0.525399:  80%|########  | 8/10 [00:00<00:00, 11.45it/s]\u001b[32m[I 2022-06-23 08:24:10,021]\u001b[0m Trial 34 finished with value: 0.6198551955189255 and parameters: {'bagging_fraction': 0.7184093749791811, 'bagging_freq': 1}. Best is trial 27 with value: 0.5253994459628332.\u001b[0m\n",
      "bagging, val_score: 0.525399:  80%|########  | 8/10 [00:00<00:00, 11.45it/s]"
     ]
    },
    {
     "name": "stdout",
     "output_type": "stream",
     "text": [
      "Training until validation scores don't improve for 10 rounds\n",
      "Early stopping, best iteration is:\n",
      "[9]\tvalid_0's AMEX score: 0.694211\tvalid_1's AMEX score: 0.619855\n",
      "Training until validation scores don't improve for 10 rounds\n",
      "Early stopping, best iteration is:\n",
      "[9]\tvalid_0's AMEX score: 0.694211\tvalid_1's AMEX score: 0.619855\n"
     ]
    },
    {
     "name": "stderr",
     "output_type": "stream",
     "text": [
      "/Users/rikuta/miniforge3/envs/env/lib/python3.8/site-packages/lightgbm/engine.py:181: UserWarning: 'early_stopping_rounds' argument is deprecated and will be removed in a future release of LightGBM. Pass 'early_stopping()' callback via 'callbacks' argument instead.\n",
      "  _log_warning(\"'early_stopping_rounds' argument is deprecated and will be removed in a future release of LightGBM. \"\n",
      "/Users/rikuta/miniforge3/envs/env/lib/python3.8/site-packages/lightgbm/engine.py:239: UserWarning: 'verbose_eval' argument is deprecated and will be removed in a future release of LightGBM. Pass 'log_evaluation()' callback via 'callbacks' argument instead.\n",
      "  _log_warning(\"'verbose_eval' argument is deprecated and will be removed in a future release of LightGBM. \"\n"
     ]
    },
    {
     "name": "stdout",
     "output_type": "stream",
     "text": [
      "Training until validation scores don't improve for 10 rounds\n",
      "Early stopping, best iteration is:\n",
      "[9]\tvalid_0's AMEX score: 0.694211\tvalid_1's AMEX score: 0.619855\n"
     ]
    },
    {
     "name": "stderr",
     "output_type": "stream",
     "text": [
      "bagging, val_score: 0.525399:  80%|########  | 8/10 [00:00<00:00, 11.45it/s]\u001b[32m[I 2022-06-23 08:24:10,111]\u001b[0m Trial 35 finished with value: 0.6198551955189255 and parameters: {'bagging_fraction': 0.4346967531086753, 'bagging_freq': 1}. Best is trial 27 with value: 0.5253994459628332.\u001b[0m\n",
      "bagging, val_score: 0.525399:  90%|######### | 9/10 [00:00<00:00, 11.45it/s]/Users/rikuta/miniforge3/envs/env/lib/python3.8/site-packages/lightgbm/engine.py:181: UserWarning: 'early_stopping_rounds' argument is deprecated and will be removed in a future release of LightGBM. Pass 'early_stopping()' callback via 'callbacks' argument instead.\n",
      "  _log_warning(\"'early_stopping_rounds' argument is deprecated and will be removed in a future release of LightGBM. \"\n",
      "/Users/rikuta/miniforge3/envs/env/lib/python3.8/site-packages/lightgbm/engine.py:239: UserWarning: 'verbose_eval' argument is deprecated and will be removed in a future release of LightGBM. Pass 'log_evaluation()' callback via 'callbacks' argument instead.\n",
      "  _log_warning(\"'verbose_eval' argument is deprecated and will be removed in a future release of LightGBM. \"\n",
      "bagging, val_score: 0.525399: 100%|##########| 10/10 [00:00<00:00, 11.38it/s]\u001b[32m[I 2022-06-23 08:24:10,198]\u001b[0m Trial 36 finished with value: 0.6198551955189255 and parameters: {'bagging_fraction': 0.9408405491218916, 'bagging_freq': 3}. Best is trial 27 with value: 0.5253994459628332.\u001b[0m\n",
      "bagging, val_score: 0.525399: 100%|##########| 10/10 [00:00<00:00, 11.37it/s]\n"
     ]
    },
    {
     "name": "stdout",
     "output_type": "stream",
     "text": [
      "Training until validation scores don't improve for 10 rounds\n",
      "Early stopping, best iteration is:\n",
      "[9]\tvalid_0's AMEX score: 0.694211\tvalid_1's AMEX score: 0.619855\n"
     ]
    },
    {
     "name": "stderr",
     "output_type": "stream",
     "text": [
      "feature_fraction_stage2, val_score: 0.525399:   0%|          | 0/3 [00:00<?, ?it/s]/Users/rikuta/miniforge3/envs/env/lib/python3.8/site-packages/lightgbm/engine.py:181: UserWarning: 'early_stopping_rounds' argument is deprecated and will be removed in a future release of LightGBM. Pass 'early_stopping()' callback via 'callbacks' argument instead.\n",
      "  _log_warning(\"'early_stopping_rounds' argument is deprecated and will be removed in a future release of LightGBM. \"\n",
      "/Users/rikuta/miniforge3/envs/env/lib/python3.8/site-packages/lightgbm/engine.py:239: UserWarning: 'verbose_eval' argument is deprecated and will be removed in a future release of LightGBM. Pass 'log_evaluation()' callback via 'callbacks' argument instead.\n",
      "  _log_warning(\"'verbose_eval' argument is deprecated and will be removed in a future release of LightGBM. \"\n"
     ]
    },
    {
     "name": "stdout",
     "output_type": "stream",
     "text": [
      "Training until validation scores don't improve for 10 rounds\n"
     ]
    },
    {
     "name": "stderr",
     "output_type": "stream",
     "text": [
      "feature_fraction_stage2, val_score: 0.525399:   0%|          | 0/3 [00:00<?, ?it/s]\u001b[32m[I 2022-06-23 08:24:10,291]\u001b[0m Trial 37 finished with value: 0.5253994459628332 and parameters: {'feature_fraction': 0.9840000000000001}. Best is trial 37 with value: 0.5253994459628332.\u001b[0m\n",
      "feature_fraction_stage2, val_score: 0.525399:  33%|###3      | 1/3 [00:00<00:00, 11.45it/s]/Users/rikuta/miniforge3/envs/env/lib/python3.8/site-packages/lightgbm/engine.py:181: UserWarning: 'early_stopping_rounds' argument is deprecated and will be removed in a future release of LightGBM. Pass 'early_stopping()' callback via 'callbacks' argument instead.\n",
      "  _log_warning(\"'early_stopping_rounds' argument is deprecated and will be removed in a future release of LightGBM. \"\n",
      "/Users/rikuta/miniforge3/envs/env/lib/python3.8/site-packages/lightgbm/engine.py:239: UserWarning: 'verbose_eval' argument is deprecated and will be removed in a future release of LightGBM. Pass 'log_evaluation()' callback via 'callbacks' argument instead.\n",
      "  _log_warning(\"'verbose_eval' argument is deprecated and will be removed in a future release of LightGBM. \"\n",
      "feature_fraction_stage2, val_score: 0.525399:  67%|######6   | 2/3 [00:00<00:00, 12.64it/s]\u001b[32m[I 2022-06-23 08:24:10,365]\u001b[0m Trial 38 finished with value: 0.5253994459628332 and parameters: {'feature_fraction': 0.9520000000000001}. Best is trial 37 with value: 0.5253994459628332.\u001b[0m\n",
      "feature_fraction_stage2, val_score: 0.525399:  67%|######6   | 2/3 [00:00<00:00, 12.64it/s]"
     ]
    },
    {
     "name": "stdout",
     "output_type": "stream",
     "text": [
      "Early stopping, best iteration is:\n",
      "[1]\tvalid_0's AMEX score: 0.645585\tvalid_1's AMEX score: 0.525399\n",
      "Training until validation scores don't improve for 10 rounds\n",
      "Early stopping, best iteration is:\n",
      "[1]\tvalid_0's AMEX score: 0.645585\tvalid_1's AMEX score: 0.525399\n"
     ]
    },
    {
     "name": "stderr",
     "output_type": "stream",
     "text": [
      "/Users/rikuta/miniforge3/envs/env/lib/python3.8/site-packages/lightgbm/engine.py:181: UserWarning: 'early_stopping_rounds' argument is deprecated and will be removed in a future release of LightGBM. Pass 'early_stopping()' callback via 'callbacks' argument instead.\n",
      "  _log_warning(\"'early_stopping_rounds' argument is deprecated and will be removed in a future release of LightGBM. \"\n",
      "/Users/rikuta/miniforge3/envs/env/lib/python3.8/site-packages/lightgbm/engine.py:239: UserWarning: 'verbose_eval' argument is deprecated and will be removed in a future release of LightGBM. Pass 'log_evaluation()' callback via 'callbacks' argument instead.\n",
      "  _log_warning(\"'verbose_eval' argument is deprecated and will be removed in a future release of LightGBM. \"\n",
      "feature_fraction_stage2, val_score: 0.525399:  67%|######6   | 2/3 [00:00<00:00, 12.64it/s]\u001b[32m[I 2022-06-23 08:24:10,460]\u001b[0m Trial 39 finished with value: 0.6198551955189255 and parameters: {'feature_fraction': 0.92}. Best is trial 37 with value: 0.5253994459628332.\u001b[0m\n",
      "feature_fraction_stage2, val_score: 0.525399: 100%|##########| 3/3 [00:00<00:00, 11.72it/s]\n"
     ]
    },
    {
     "name": "stdout",
     "output_type": "stream",
     "text": [
      "Training until validation scores don't improve for 10 rounds\n",
      "Early stopping, best iteration is:\n",
      "[9]\tvalid_0's AMEX score: 0.694211\tvalid_1's AMEX score: 0.619855\n"
     ]
    },
    {
     "name": "stderr",
     "output_type": "stream",
     "text": [
      "regularization_factors, val_score: 0.525399:   0%|          | 0/20 [00:00<?, ?it/s]/Users/rikuta/miniforge3/envs/env/lib/python3.8/site-packages/lightgbm/engine.py:181: UserWarning: 'early_stopping_rounds' argument is deprecated and will be removed in a future release of LightGBM. Pass 'early_stopping()' callback via 'callbacks' argument instead.\n",
      "  _log_warning(\"'early_stopping_rounds' argument is deprecated and will be removed in a future release of LightGBM. \"\n",
      "/Users/rikuta/miniforge3/envs/env/lib/python3.8/site-packages/lightgbm/engine.py:239: UserWarning: 'verbose_eval' argument is deprecated and will be removed in a future release of LightGBM. Pass 'log_evaluation()' callback via 'callbacks' argument instead.\n",
      "  _log_warning(\"'verbose_eval' argument is deprecated and will be removed in a future release of LightGBM. \"\n",
      "regularization_factors, val_score: 0.525399:   0%|          | 0/20 [00:00<?, ?it/s]\u001b[32m[I 2022-06-23 08:24:10,551]\u001b[0m Trial 40 finished with value: 0.5253994459628332 and parameters: {'lambda_l1': 3.577963803473706e-06, 'lambda_l2': 0.0013382651101707325}. Best is trial 40 with value: 0.5253994459628332.\u001b[0m\n",
      "regularization_factors, val_score: 0.525399:   5%|5         | 1/20 [00:00<00:01, 11.43it/s]/Users/rikuta/miniforge3/envs/env/lib/python3.8/site-packages/lightgbm/engine.py:181: UserWarning: 'early_stopping_rounds' argument is deprecated and will be removed in a future release of LightGBM. Pass 'early_stopping()' callback via 'callbacks' argument instead.\n",
      "  _log_warning(\"'early_stopping_rounds' argument is deprecated and will be removed in a future release of LightGBM. \"\n",
      "/Users/rikuta/miniforge3/envs/env/lib/python3.8/site-packages/lightgbm/engine.py:239: UserWarning: 'verbose_eval' argument is deprecated and will be removed in a future release of LightGBM. Pass 'log_evaluation()' callback via 'callbacks' argument instead.\n",
      "  _log_warning(\"'verbose_eval' argument is deprecated and will be removed in a future release of LightGBM. \"\n"
     ]
    },
    {
     "name": "stdout",
     "output_type": "stream",
     "text": [
      "Training until validation scores don't improve for 10 rounds\n",
      "Early stopping, best iteration is:\n",
      "[1]\tvalid_0's AMEX score: 0.645585\tvalid_1's AMEX score: 0.525399\n",
      "Training until validation scores don't improve for 10 rounds\n"
     ]
    },
    {
     "name": "stderr",
     "output_type": "stream",
     "text": [
      "regularization_factors, val_score: 0.525399:  10%|#         | 2/20 [00:00<00:01, 12.04it/s]\u001b[32m[I 2022-06-23 08:24:10,633]\u001b[0m Trial 41 finished with value: 0.6198551955189255 and parameters: {'lambda_l1': 2.3438052622785692, 'lambda_l2': 8.877328486353691e-06}. Best is trial 40 with value: 0.5253994459628332.\u001b[0m\n",
      "regularization_factors, val_score: 0.525399:  10%|#         | 2/20 [00:00<00:01, 12.04it/s]/Users/rikuta/miniforge3/envs/env/lib/python3.8/site-packages/lightgbm/engine.py:181: UserWarning: 'early_stopping_rounds' argument is deprecated and will be removed in a future release of LightGBM. Pass 'early_stopping()' callback via 'callbacks' argument instead.\n",
      "  _log_warning(\"'early_stopping_rounds' argument is deprecated and will be removed in a future release of LightGBM. \"\n",
      "/Users/rikuta/miniforge3/envs/env/lib/python3.8/site-packages/lightgbm/engine.py:239: UserWarning: 'verbose_eval' argument is deprecated and will be removed in a future release of LightGBM. Pass 'log_evaluation()' callback via 'callbacks' argument instead.\n",
      "  _log_warning(\"'verbose_eval' argument is deprecated and will be removed in a future release of LightGBM. \"\n",
      "regularization_factors, val_score: 0.525399:  10%|#         | 2/20 [00:00<00:01, 12.04it/s]\u001b[32m[I 2022-06-23 08:24:10,712]\u001b[0m Trial 42 finished with value: 0.5253994459628332 and parameters: {'lambda_l1': 0.02883088029483542, 'lambda_l2': 2.4723631637129668e-08}. Best is trial 40 with value: 0.5253994459628332.\u001b[0m\n",
      "regularization_factors, val_score: 0.525399:  15%|#5        | 3/20 [00:00<00:01, 12.04it/s]"
     ]
    },
    {
     "name": "stdout",
     "output_type": "stream",
     "text": [
      "Early stopping, best iteration is:\n",
      "[9]\tvalid_0's AMEX score: 0.694211\tvalid_1's AMEX score: 0.619855\n",
      "Training until validation scores don't improve for 10 rounds\n",
      "Early stopping, best iteration is:\n",
      "[1]\tvalid_0's AMEX score: 0.645585\tvalid_1's AMEX score: 0.525399\n"
     ]
    },
    {
     "name": "stderr",
     "output_type": "stream",
     "text": [
      "/Users/rikuta/miniforge3/envs/env/lib/python3.8/site-packages/lightgbm/engine.py:181: UserWarning: 'early_stopping_rounds' argument is deprecated and will be removed in a future release of LightGBM. Pass 'early_stopping()' callback via 'callbacks' argument instead.\n",
      "  _log_warning(\"'early_stopping_rounds' argument is deprecated and will be removed in a future release of LightGBM. \"\n",
      "/Users/rikuta/miniforge3/envs/env/lib/python3.8/site-packages/lightgbm/engine.py:239: UserWarning: 'verbose_eval' argument is deprecated and will be removed in a future release of LightGBM. Pass 'log_evaluation()' callback via 'callbacks' argument instead.\n",
      "  _log_warning(\"'verbose_eval' argument is deprecated and will be removed in a future release of LightGBM. \"\n",
      "regularization_factors, val_score: 0.525399:  20%|##        | 4/20 [00:00<00:01, 12.29it/s]\u001b[32m[I 2022-06-23 08:24:10,793]\u001b[0m Trial 43 finished with value: 0.5253994459628332 and parameters: {'lambda_l1': 0.006351787668195321, 'lambda_l2': 0.03841723869215282}. Best is trial 40 with value: 0.5253994459628332.\u001b[0m\n",
      "regularization_factors, val_score: 0.525399:  20%|##        | 4/20 [00:00<00:01, 12.29it/s]"
     ]
    },
    {
     "name": "stdout",
     "output_type": "stream",
     "text": [
      "Training until validation scores don't improve for 10 rounds\n",
      "Early stopping, best iteration is:\n",
      "[1]\tvalid_0's AMEX score: 0.645585\tvalid_1's AMEX score: 0.525399\n"
     ]
    },
    {
     "name": "stderr",
     "output_type": "stream",
     "text": [
      "/Users/rikuta/miniforge3/envs/env/lib/python3.8/site-packages/lightgbm/engine.py:181: UserWarning: 'early_stopping_rounds' argument is deprecated and will be removed in a future release of LightGBM. Pass 'early_stopping()' callback via 'callbacks' argument instead.\n",
      "  _log_warning(\"'early_stopping_rounds' argument is deprecated and will be removed in a future release of LightGBM. \"\n",
      "/Users/rikuta/miniforge3/envs/env/lib/python3.8/site-packages/lightgbm/engine.py:239: UserWarning: 'verbose_eval' argument is deprecated and will be removed in a future release of LightGBM. Pass 'log_evaluation()' callback via 'callbacks' argument instead.\n",
      "  _log_warning(\"'verbose_eval' argument is deprecated and will be removed in a future release of LightGBM. \"\n",
      "regularization_factors, val_score: 0.525399:  20%|##        | 4/20 [00:00<00:01, 12.29it/s]\u001b[32m[I 2022-06-23 08:24:10,899]\u001b[0m Trial 44 finished with value: 0.6198551955189255 and parameters: {'lambda_l1': 8.643096782911203e-08, 'lambda_l2': 1.8927266496698316}. Best is trial 40 with value: 0.5253994459628332.\u001b[0m\n",
      "regularization_factors, val_score: 0.525399:  25%|##5       | 5/20 [00:00<00:01, 12.29it/s]/Users/rikuta/miniforge3/envs/env/lib/python3.8/site-packages/lightgbm/engine.py:181: UserWarning: 'early_stopping_rounds' argument is deprecated and will be removed in a future release of LightGBM. Pass 'early_stopping()' callback via 'callbacks' argument instead.\n",
      "  _log_warning(\"'early_stopping_rounds' argument is deprecated and will be removed in a future release of LightGBM. \"\n",
      "/Users/rikuta/miniforge3/envs/env/lib/python3.8/site-packages/lightgbm/engine.py:239: UserWarning: 'verbose_eval' argument is deprecated and will be removed in a future release of LightGBM. Pass 'log_evaluation()' callback via 'callbacks' argument instead.\n",
      "  _log_warning(\"'verbose_eval' argument is deprecated and will be removed in a future release of LightGBM. \"\n",
      "regularization_factors, val_score: 0.525399:  25%|##5       | 5/20 [00:00<00:01, 12.29it/s]"
     ]
    },
    {
     "name": "stdout",
     "output_type": "stream",
     "text": [
      "Training until validation scores don't improve for 10 rounds\n",
      "Early stopping, best iteration is:\n",
      "[9]\tvalid_0's AMEX score: 0.694211\tvalid_1's AMEX score: 0.619855\n",
      "Training until validation scores don't improve for 10 rounds\n",
      "Early stopping, best iteration is:\n",
      "[1]\tvalid_0's AMEX score: 0.645585\tvalid_1's AMEX score: 0.525399\n"
     ]
    },
    {
     "name": "stderr",
     "output_type": "stream",
     "text": [
      "regularization_factors, val_score: 0.525399:  30%|###       | 6/20 [00:00<00:01, 11.69it/s]\u001b[32m[I 2022-06-23 08:24:10,975]\u001b[0m Trial 45 finished with value: 0.5253994459628332 and parameters: {'lambda_l1': 0.0001292778387450747, 'lambda_l2': 0.03037869639306319}. Best is trial 40 with value: 0.5253994459628332.\u001b[0m\n",
      "regularization_factors, val_score: 0.525399:  30%|###       | 6/20 [00:00<00:01, 11.69it/s]/Users/rikuta/miniforge3/envs/env/lib/python3.8/site-packages/lightgbm/engine.py:181: UserWarning: 'early_stopping_rounds' argument is deprecated and will be removed in a future release of LightGBM. Pass 'early_stopping()' callback via 'callbacks' argument instead.\n",
      "  _log_warning(\"'early_stopping_rounds' argument is deprecated and will be removed in a future release of LightGBM. \"\n",
      "/Users/rikuta/miniforge3/envs/env/lib/python3.8/site-packages/lightgbm/engine.py:239: UserWarning: 'verbose_eval' argument is deprecated and will be removed in a future release of LightGBM. Pass 'log_evaluation()' callback via 'callbacks' argument instead.\n",
      "  _log_warning(\"'verbose_eval' argument is deprecated and will be removed in a future release of LightGBM. \"\n"
     ]
    },
    {
     "name": "stdout",
     "output_type": "stream",
     "text": [
      "Training until validation scores don't improve for 10 rounds\n"
     ]
    },
    {
     "name": "stderr",
     "output_type": "stream",
     "text": [
      "regularization_factors, val_score: 0.525399:  30%|###       | 6/20 [00:00<00:01, 11.69it/s]\u001b[32m[I 2022-06-23 08:24:11,061]\u001b[0m Trial 46 finished with value: 0.6198551955189255 and parameters: {'lambda_l1': 0.06260450598377865, 'lambda_l2': 9.666126473323825e-08}. Best is trial 40 with value: 0.5253994459628332.\u001b[0m\n",
      "regularization_factors, val_score: 0.525399:  35%|###5      | 7/20 [00:00<00:01, 11.69it/s]/Users/rikuta/miniforge3/envs/env/lib/python3.8/site-packages/lightgbm/engine.py:181: UserWarning: 'early_stopping_rounds' argument is deprecated and will be removed in a future release of LightGBM. Pass 'early_stopping()' callback via 'callbacks' argument instead.\n",
      "  _log_warning(\"'early_stopping_rounds' argument is deprecated and will be removed in a future release of LightGBM. \"\n",
      "/Users/rikuta/miniforge3/envs/env/lib/python3.8/site-packages/lightgbm/engine.py:239: UserWarning: 'verbose_eval' argument is deprecated and will be removed in a future release of LightGBM. Pass 'log_evaluation()' callback via 'callbacks' argument instead.\n",
      "  _log_warning(\"'verbose_eval' argument is deprecated and will be removed in a future release of LightGBM. \"\n",
      "regularization_factors, val_score: 0.525399:  40%|####      | 8/20 [00:00<00:01, 11.71it/s]\u001b[32m[I 2022-06-23 08:24:11,145]\u001b[0m Trial 47 finished with value: 0.5253994459628332 and parameters: {'lambda_l1': 0.000979742148843642, 'lambda_l2': 0.0031162996198207207}. Best is trial 40 with value: 0.5253994459628332.\u001b[0m\n",
      "regularization_factors, val_score: 0.525399:  40%|####      | 8/20 [00:00<00:01, 11.71it/s]/Users/rikuta/miniforge3/envs/env/lib/python3.8/site-packages/lightgbm/engine.py:181: UserWarning: 'early_stopping_rounds' argument is deprecated and will be removed in a future release of LightGBM. Pass 'early_stopping()' callback via 'callbacks' argument instead.\n",
      "  _log_warning(\"'early_stopping_rounds' argument is deprecated and will be removed in a future release of LightGBM. \"\n",
      "/Users/rikuta/miniforge3/envs/env/lib/python3.8/site-packages/lightgbm/engine.py:239: UserWarning: 'verbose_eval' argument is deprecated and will be removed in a future release of LightGBM. Pass 'log_evaluation()' callback via 'callbacks' argument instead.\n",
      "  _log_warning(\"'verbose_eval' argument is deprecated and will be removed in a future release of LightGBM. \"\n",
      "regularization_factors, val_score: 0.525399:  40%|####      | 8/20 [00:00<00:01, 11.71it/s]\u001b[32m[I 2022-06-23 08:24:11,224]\u001b[0m Trial 48 finished with value: 0.5253994459628332 and parameters: {'lambda_l1': 2.3480932075254175e-07, 'lambda_l2': 0.0009379405149942972}. Best is trial 40 with value: 0.5253994459628332.\u001b[0m\n",
      "regularization_factors, val_score: 0.525399:  45%|####5     | 9/20 [00:00<00:00, 11.71it/s]"
     ]
    },
    {
     "name": "stdout",
     "output_type": "stream",
     "text": [
      "Early stopping, best iteration is:\n",
      "[9]\tvalid_0's AMEX score: 0.694211\tvalid_1's AMEX score: 0.619855\n",
      "Training until validation scores don't improve for 10 rounds\n",
      "Early stopping, best iteration is:\n",
      "[1]\tvalid_0's AMEX score: 0.645585\tvalid_1's AMEX score: 0.525399\n",
      "Training until validation scores don't improve for 10 rounds\n",
      "Early stopping, best iteration is:\n",
      "[1]\tvalid_0's AMEX score: 0.645585\tvalid_1's AMEX score: 0.525399\n"
     ]
    },
    {
     "name": "stderr",
     "output_type": "stream",
     "text": [
      "/Users/rikuta/miniforge3/envs/env/lib/python3.8/site-packages/lightgbm/engine.py:181: UserWarning: 'early_stopping_rounds' argument is deprecated and will be removed in a future release of LightGBM. Pass 'early_stopping()' callback via 'callbacks' argument instead.\n",
      "  _log_warning(\"'early_stopping_rounds' argument is deprecated and will be removed in a future release of LightGBM. \"\n",
      "/Users/rikuta/miniforge3/envs/env/lib/python3.8/site-packages/lightgbm/engine.py:239: UserWarning: 'verbose_eval' argument is deprecated and will be removed in a future release of LightGBM. Pass 'log_evaluation()' callback via 'callbacks' argument instead.\n",
      "  _log_warning(\"'verbose_eval' argument is deprecated and will be removed in a future release of LightGBM. \"\n",
      "regularization_factors, val_score: 0.525399:  50%|#####     | 10/20 [00:00<00:00, 11.81it/s]\u001b[32m[I 2022-06-23 08:24:11,312]\u001b[0m Trial 49 finished with value: 0.5253994459628332 and parameters: {'lambda_l1': 0.0010677510337170019, 'lambda_l2': 0.0010077188720362}. Best is trial 40 with value: 0.5253994459628332.\u001b[0m\n",
      "regularization_factors, val_score: 0.525399:  50%|#####     | 10/20 [00:00<00:00, 11.81it/s]/Users/rikuta/miniforge3/envs/env/lib/python3.8/site-packages/lightgbm/engine.py:181: UserWarning: 'early_stopping_rounds' argument is deprecated and will be removed in a future release of LightGBM. Pass 'early_stopping()' callback via 'callbacks' argument instead.\n",
      "  _log_warning(\"'early_stopping_rounds' argument is deprecated and will be removed in a future release of LightGBM. \"\n",
      "/Users/rikuta/miniforge3/envs/env/lib/python3.8/site-packages/lightgbm/engine.py:239: UserWarning: 'verbose_eval' argument is deprecated and will be removed in a future release of LightGBM. Pass 'log_evaluation()' callback via 'callbacks' argument instead.\n",
      "  _log_warning(\"'verbose_eval' argument is deprecated and will be removed in a future release of LightGBM. \"\n",
      "regularization_factors, val_score: 0.525399:  50%|#####     | 10/20 [00:00<00:00, 11.81it/s]\u001b[32m[I 2022-06-23 08:24:11,399]\u001b[0m Trial 50 finished with value: 0.5253994459628332 and parameters: {'lambda_l1': 1.757791580988018e-05, 'lambda_l2': 8.132182099315107e-06}. Best is trial 40 with value: 0.5253994459628332.\u001b[0m\n",
      "regularization_factors, val_score: 0.525399:  55%|#####5    | 11/20 [00:00<00:00, 11.81it/s]/Users/rikuta/miniforge3/envs/env/lib/python3.8/site-packages/lightgbm/engine.py:181: UserWarning: 'early_stopping_rounds' argument is deprecated and will be removed in a future release of LightGBM. Pass 'early_stopping()' callback via 'callbacks' argument instead.\n",
      "  _log_warning(\"'early_stopping_rounds' argument is deprecated and will be removed in a future release of LightGBM. \"\n",
      "/Users/rikuta/miniforge3/envs/env/lib/python3.8/site-packages/lightgbm/engine.py:239: UserWarning: 'verbose_eval' argument is deprecated and will be removed in a future release of LightGBM. Pass 'log_evaluation()' callback via 'callbacks' argument instead.\n",
      "  _log_warning(\"'verbose_eval' argument is deprecated and will be removed in a future release of LightGBM. \"\n"
     ]
    },
    {
     "name": "stdout",
     "output_type": "stream",
     "text": [
      "Training until validation scores don't improve for 10 rounds\n",
      "Early stopping, best iteration is:\n",
      "[1]\tvalid_0's AMEX score: 0.645585\tvalid_1's AMEX score: 0.525399\n",
      "Training until validation scores don't improve for 10 rounds\n",
      "Early stopping, best iteration is:\n",
      "[1]\tvalid_0's AMEX score: 0.645585\tvalid_1's AMEX score: 0.525399\n",
      "Training until validation scores don't improve for 10 rounds\n",
      "Early stopping, best iteration is:\n",
      "[1]\tvalid_0's AMEX score: 0.645585\tvalid_1's AMEX score: 0.525399\n"
     ]
    },
    {
     "name": "stderr",
     "output_type": "stream",
     "text": [
      "regularization_factors, val_score: 0.525399:  60%|######    | 12/20 [00:01<00:00, 11.74it/s]\u001b[32m[I 2022-06-23 08:24:11,484]\u001b[0m Trial 51 finished with value: 0.5253994459628332 and parameters: {'lambda_l1': 4.924918977611444e-06, 'lambda_l2': 8.261062366572641e-08}. Best is trial 40 with value: 0.5253994459628332.\u001b[0m\n",
      "regularization_factors, val_score: 0.525399:  60%|######    | 12/20 [00:01<00:00, 11.74it/s]/Users/rikuta/miniforge3/envs/env/lib/python3.8/site-packages/lightgbm/engine.py:181: UserWarning: 'early_stopping_rounds' argument is deprecated and will be removed in a future release of LightGBM. Pass 'early_stopping()' callback via 'callbacks' argument instead.\n",
      "  _log_warning(\"'early_stopping_rounds' argument is deprecated and will be removed in a future release of LightGBM. \"\n",
      "/Users/rikuta/miniforge3/envs/env/lib/python3.8/site-packages/lightgbm/engine.py:239: UserWarning: 'verbose_eval' argument is deprecated and will be removed in a future release of LightGBM. Pass 'log_evaluation()' callback via 'callbacks' argument instead.\n",
      "  _log_warning(\"'verbose_eval' argument is deprecated and will be removed in a future release of LightGBM. \"\n",
      "regularization_factors, val_score: 0.525399:  60%|######    | 12/20 [00:01<00:00, 11.74it/s]\u001b[32m[I 2022-06-23 08:24:11,568]\u001b[0m Trial 52 finished with value: 0.5283703937899764 and parameters: {'lambda_l1': 0.24334912162921435, 'lambda_l2': 8.884270259610777e-06}. Best is trial 40 with value: 0.5253994459628332.\u001b[0m\n",
      "regularization_factors, val_score: 0.525399:  65%|######5   | 13/20 [00:01<00:00, 11.74it/s]/Users/rikuta/miniforge3/envs/env/lib/python3.8/site-packages/lightgbm/engine.py:181: UserWarning: 'early_stopping_rounds' argument is deprecated and will be removed in a future release of LightGBM. Pass 'early_stopping()' callback via 'callbacks' argument instead.\n",
      "  _log_warning(\"'early_stopping_rounds' argument is deprecated and will be removed in a future release of LightGBM. \"\n",
      "/Users/rikuta/miniforge3/envs/env/lib/python3.8/site-packages/lightgbm/engine.py:239: UserWarning: 'verbose_eval' argument is deprecated and will be removed in a future release of LightGBM. Pass 'log_evaluation()' callback via 'callbacks' argument instead.\n",
      "  _log_warning(\"'verbose_eval' argument is deprecated and will be removed in a future release of LightGBM. \"\n",
      "regularization_factors, val_score: 0.525399:  70%|#######   | 14/20 [00:01<00:00, 11.75it/s]\u001b[32m[I 2022-06-23 08:24:11,654]\u001b[0m Trial 53 finished with value: 0.5253994459628332 and parameters: {'lambda_l1': 3.2022833187502557e-06, 'lambda_l2': 1.5121765406666526e-08}. Best is trial 40 with value: 0.5253994459628332.\u001b[0m\n",
      "regularization_factors, val_score: 0.525399:  70%|#######   | 14/20 [00:01<00:00, 11.75it/s]/Users/rikuta/miniforge3/envs/env/lib/python3.8/site-packages/lightgbm/engine.py:181: UserWarning: 'early_stopping_rounds' argument is deprecated and will be removed in a future release of LightGBM. Pass 'early_stopping()' callback via 'callbacks' argument instead.\n",
      "  _log_warning(\"'early_stopping_rounds' argument is deprecated and will be removed in a future release of LightGBM. \"\n",
      "/Users/rikuta/miniforge3/envs/env/lib/python3.8/site-packages/lightgbm/engine.py:239: UserWarning: 'verbose_eval' argument is deprecated and will be removed in a future release of LightGBM. Pass 'log_evaluation()' callback via 'callbacks' argument instead.\n",
      "  _log_warning(\"'verbose_eval' argument is deprecated and will be removed in a future release of LightGBM. \"\n",
      "regularization_factors, val_score: 0.525399:  70%|#######   | 14/20 [00:01<00:00, 11.75it/s]\u001b[32m[I 2022-06-23 08:24:11,743]\u001b[0m Trial 54 finished with value: 0.5253994459628332 and parameters: {'lambda_l1': 0.019195486765064357, 'lambda_l2': 5.1433531124743396e-05}. Best is trial 40 with value: 0.5253994459628332.\u001b[0m\n",
      "regularization_factors, val_score: 0.525399:  75%|#######5  | 15/20 [00:01<00:00, 11.75it/s]"
     ]
    },
    {
     "name": "stdout",
     "output_type": "stream",
     "text": [
      "Training until validation scores don't improve for 10 rounds\n",
      "Early stopping, best iteration is:\n",
      "[1]\tvalid_0's AMEX score: 0.645333\tvalid_1's AMEX score: 0.52837\n",
      "Training until validation scores don't improve for 10 rounds\n",
      "Early stopping, best iteration is:\n",
      "[1]\tvalid_0's AMEX score: 0.645585\tvalid_1's AMEX score: 0.525399\n",
      "Training until validation scores don't improve for 10 rounds\n",
      "Early stopping, best iteration is:\n",
      "[1]\tvalid_0's AMEX score: 0.645585\tvalid_1's AMEX score: 0.525399\n"
     ]
    },
    {
     "name": "stderr",
     "output_type": "stream",
     "text": [
      "/Users/rikuta/miniforge3/envs/env/lib/python3.8/site-packages/lightgbm/engine.py:181: UserWarning: 'early_stopping_rounds' argument is deprecated and will be removed in a future release of LightGBM. Pass 'early_stopping()' callback via 'callbacks' argument instead.\n",
      "  _log_warning(\"'early_stopping_rounds' argument is deprecated and will be removed in a future release of LightGBM. \"\n",
      "/Users/rikuta/miniforge3/envs/env/lib/python3.8/site-packages/lightgbm/engine.py:239: UserWarning: 'verbose_eval' argument is deprecated and will be removed in a future release of LightGBM. Pass 'log_evaluation()' callback via 'callbacks' argument instead.\n",
      "  _log_warning(\"'verbose_eval' argument is deprecated and will be removed in a future release of LightGBM. \"\n",
      "regularization_factors, val_score: 0.525399:  80%|########  | 16/20 [00:01<00:00, 11.56it/s]\u001b[32m[I 2022-06-23 08:24:11,833]\u001b[0m Trial 55 finished with value: 0.5415590625046491 and parameters: {'lambda_l1': 4.802747737299935, 'lambda_l2': 1.107838380850703}. Best is trial 40 with value: 0.5253994459628332.\u001b[0m\n",
      "regularization_factors, val_score: 0.525399:  80%|########  | 16/20 [00:01<00:00, 11.56it/s]/Users/rikuta/miniforge3/envs/env/lib/python3.8/site-packages/lightgbm/engine.py:181: UserWarning: 'early_stopping_rounds' argument is deprecated and will be removed in a future release of LightGBM. Pass 'early_stopping()' callback via 'callbacks' argument instead.\n",
      "  _log_warning(\"'early_stopping_rounds' argument is deprecated and will be removed in a future release of LightGBM. \"\n",
      "/Users/rikuta/miniforge3/envs/env/lib/python3.8/site-packages/lightgbm/engine.py:239: UserWarning: 'verbose_eval' argument is deprecated and will be removed in a future release of LightGBM. Pass 'log_evaluation()' callback via 'callbacks' argument instead.\n",
      "  _log_warning(\"'verbose_eval' argument is deprecated and will be removed in a future release of LightGBM. \"\n",
      "regularization_factors, val_score: 0.525399:  80%|########  | 16/20 [00:01<00:00, 11.56it/s]\u001b[32m[I 2022-06-23 08:24:11,922]\u001b[0m Trial 56 finished with value: 0.5253994459628332 and parameters: {'lambda_l1': 1.2262966634096892e-08, 'lambda_l2': 4.6741635946809726e-07}. Best is trial 40 with value: 0.5253994459628332.\u001b[0m\n",
      "regularization_factors, val_score: 0.525399:  85%|########5 | 17/20 [00:01<00:00, 11.56it/s]/Users/rikuta/miniforge3/envs/env/lib/python3.8/site-packages/lightgbm/engine.py:181: UserWarning: 'early_stopping_rounds' argument is deprecated and will be removed in a future release of LightGBM. Pass 'early_stopping()' callback via 'callbacks' argument instead.\n",
      "  _log_warning(\"'early_stopping_rounds' argument is deprecated and will be removed in a future release of LightGBM. \"\n",
      "/Users/rikuta/miniforge3/envs/env/lib/python3.8/site-packages/lightgbm/engine.py:239: UserWarning: 'verbose_eval' argument is deprecated and will be removed in a future release of LightGBM. Pass 'log_evaluation()' callback via 'callbacks' argument instead.\n",
      "  _log_warning(\"'verbose_eval' argument is deprecated and will be removed in a future release of LightGBM. \"\n",
      "regularization_factors, val_score: 0.525399:  90%|######### | 18/20 [00:01<00:00, 11.50it/s]\u001b[32m[I 2022-06-23 08:24:12,009]\u001b[0m Trial 57 finished with value: 0.5253994459628332 and parameters: {'lambda_l1': 7.913854962165843e-05, 'lambda_l2': 7.337961491368467e-05}. Best is trial 40 with value: 0.5253994459628332.\u001b[0m\n",
      "regularization_factors, val_score: 0.525399:  90%|######### | 18/20 [00:01<00:00, 11.50it/s]"
     ]
    },
    {
     "name": "stdout",
     "output_type": "stream",
     "text": [
      "Training until validation scores don't improve for 10 rounds\n",
      "Early stopping, best iteration is:\n",
      "[2]\tvalid_0's AMEX score: 0.55079\tvalid_1's AMEX score: 0.541559\n",
      "Training until validation scores don't improve for 10 rounds\n",
      "Early stopping, best iteration is:\n",
      "[1]\tvalid_0's AMEX score: 0.645585\tvalid_1's AMEX score: 0.525399\n",
      "Training until validation scores don't improve for 10 rounds\n",
      "Early stopping, best iteration is:\n",
      "[1]\tvalid_0's AMEX score: 0.645585\tvalid_1's AMEX score: 0.525399\n"
     ]
    },
    {
     "name": "stderr",
     "output_type": "stream",
     "text": [
      "/Users/rikuta/miniforge3/envs/env/lib/python3.8/site-packages/lightgbm/engine.py:181: UserWarning: 'early_stopping_rounds' argument is deprecated and will be removed in a future release of LightGBM. Pass 'early_stopping()' callback via 'callbacks' argument instead.\n",
      "  _log_warning(\"'early_stopping_rounds' argument is deprecated and will be removed in a future release of LightGBM. \"\n",
      "/Users/rikuta/miniforge3/envs/env/lib/python3.8/site-packages/lightgbm/engine.py:239: UserWarning: 'verbose_eval' argument is deprecated and will be removed in a future release of LightGBM. Pass 'log_evaluation()' callback via 'callbacks' argument instead.\n",
      "  _log_warning(\"'verbose_eval' argument is deprecated and will be removed in a future release of LightGBM. \"\n",
      "regularization_factors, val_score: 0.525399:  90%|######### | 18/20 [00:01<00:00, 11.50it/s]\u001b[32m[I 2022-06-23 08:24:12,098]\u001b[0m Trial 58 finished with value: 0.5253994459628332 and parameters: {'lambda_l1': 8.322132214848151e-07, 'lambda_l2': 9.376467916856212e-05}. Best is trial 40 with value: 0.5253994459628332.\u001b[0m\n",
      "regularization_factors, val_score: 0.525399:  95%|#########5| 19/20 [00:01<00:00, 11.50it/s]/Users/rikuta/miniforge3/envs/env/lib/python3.8/site-packages/lightgbm/engine.py:181: UserWarning: 'early_stopping_rounds' argument is deprecated and will be removed in a future release of LightGBM. Pass 'early_stopping()' callback via 'callbacks' argument instead.\n",
      "  _log_warning(\"'early_stopping_rounds' argument is deprecated and will be removed in a future release of LightGBM. \"\n",
      "/Users/rikuta/miniforge3/envs/env/lib/python3.8/site-packages/lightgbm/engine.py:239: UserWarning: 'verbose_eval' argument is deprecated and will be removed in a future release of LightGBM. Pass 'log_evaluation()' callback via 'callbacks' argument instead.\n",
      "  _log_warning(\"'verbose_eval' argument is deprecated and will be removed in a future release of LightGBM. \"\n",
      "regularization_factors, val_score: 0.525399: 100%|##########| 20/20 [00:01<00:00, 11.44it/s]\u001b[32m[I 2022-06-23 08:24:12,186]\u001b[0m Trial 59 finished with value: 0.5253994459628332 and parameters: {'lambda_l1': 1.0643327407727111e-08, 'lambda_l2': 0.02708806496407863}. Best is trial 40 with value: 0.5253994459628332.\u001b[0m\n",
      "regularization_factors, val_score: 0.525399: 100%|##########| 20/20 [00:01<00:00, 11.61it/s]\n"
     ]
    },
    {
     "name": "stdout",
     "output_type": "stream",
     "text": [
      "Training until validation scores don't improve for 10 rounds\n",
      "Early stopping, best iteration is:\n",
      "[1]\tvalid_0's AMEX score: 0.645585\tvalid_1's AMEX score: 0.525399\n",
      "Training until validation scores don't improve for 10 rounds\n",
      "Early stopping, best iteration is:\n",
      "[1]\tvalid_0's AMEX score: 0.645585\tvalid_1's AMEX score: 0.525399\n"
     ]
    },
    {
     "name": "stderr",
     "output_type": "stream",
     "text": [
      "min_data_in_leaf, val_score: 0.525399:   0%|          | 0/5 [00:00<?, ?it/s]/Users/rikuta/miniforge3/envs/env/lib/python3.8/site-packages/lightgbm/engine.py:181: UserWarning: 'early_stopping_rounds' argument is deprecated and will be removed in a future release of LightGBM. Pass 'early_stopping()' callback via 'callbacks' argument instead.\n",
      "  _log_warning(\"'early_stopping_rounds' argument is deprecated and will be removed in a future release of LightGBM. \"\n",
      "/Users/rikuta/miniforge3/envs/env/lib/python3.8/site-packages/lightgbm/engine.py:239: UserWarning: 'verbose_eval' argument is deprecated and will be removed in a future release of LightGBM. Pass 'log_evaluation()' callback via 'callbacks' argument instead.\n",
      "  _log_warning(\"'verbose_eval' argument is deprecated and will be removed in a future release of LightGBM. \"\n",
      "min_data_in_leaf, val_score: 0.525399:   0%|          | 0/5 [00:00<?, ?it/s]\u001b[32m[I 2022-06-23 08:24:12,272]\u001b[0m Trial 60 finished with value: 0.5253994459628332 and parameters: {'min_child_samples': 5}. Best is trial 60 with value: 0.5253994459628332.\u001b[0m\n",
      "min_data_in_leaf, val_score: 0.525399:  20%|##        | 1/5 [00:00<00:00, 12.28it/s]"
     ]
    },
    {
     "name": "stdout",
     "output_type": "stream",
     "text": [
      "Training until validation scores don't improve for 10 rounds\n",
      "Early stopping, best iteration is:\n",
      "[1]\tvalid_0's AMEX score: 0.645585\tvalid_1's AMEX score: 0.525399\n"
     ]
    },
    {
     "name": "stderr",
     "output_type": "stream",
     "text": [
      "/Users/rikuta/miniforge3/envs/env/lib/python3.8/site-packages/lightgbm/engine.py:181: UserWarning: 'early_stopping_rounds' argument is deprecated and will be removed in a future release of LightGBM. Pass 'early_stopping()' callback via 'callbacks' argument instead.\n",
      "  _log_warning(\"'early_stopping_rounds' argument is deprecated and will be removed in a future release of LightGBM. \"\n",
      "/Users/rikuta/miniforge3/envs/env/lib/python3.8/site-packages/lightgbm/engine.py:239: UserWarning: 'verbose_eval' argument is deprecated and will be removed in a future release of LightGBM. Pass 'log_evaluation()' callback via 'callbacks' argument instead.\n",
      "  _log_warning(\"'verbose_eval' argument is deprecated and will be removed in a future release of LightGBM. \"\n",
      "min_data_in_leaf, val_score: 0.525399:  40%|####      | 2/5 [00:00<00:00, 12.00it/s]\u001b[32m[I 2022-06-23 08:24:12,360]\u001b[0m Trial 61 finished with value: 0.5253994459628332 and parameters: {'min_child_samples': 10}. Best is trial 60 with value: 0.5253994459628332.\u001b[0m\n",
      "min_data_in_leaf, val_score: 0.525399:  40%|####      | 2/5 [00:00<00:00, 12.00it/s]/Users/rikuta/miniforge3/envs/env/lib/python3.8/site-packages/lightgbm/engine.py:181: UserWarning: 'early_stopping_rounds' argument is deprecated and will be removed in a future release of LightGBM. Pass 'early_stopping()' callback via 'callbacks' argument instead.\n",
      "  _log_warning(\"'early_stopping_rounds' argument is deprecated and will be removed in a future release of LightGBM. \"\n",
      "/Users/rikuta/miniforge3/envs/env/lib/python3.8/site-packages/lightgbm/engine.py:239: UserWarning: 'verbose_eval' argument is deprecated and will be removed in a future release of LightGBM. Pass 'log_evaluation()' callback via 'callbacks' argument instead.\n",
      "  _log_warning(\"'verbose_eval' argument is deprecated and will be removed in a future release of LightGBM. \"\n",
      "min_data_in_leaf, val_score: 0.525399:  40%|####      | 2/5 [00:00<00:00, 12.00it/s]\u001b[32m[I 2022-06-23 08:24:12,437]\u001b[0m Trial 62 finished with value: 0.5253994459628332 and parameters: {'min_child_samples': 50}. Best is trial 60 with value: 0.5253994459628332.\u001b[0m\n",
      "min_data_in_leaf, val_score: 0.525399:  60%|######    | 3/5 [00:00<00:00, 12.00it/s]"
     ]
    },
    {
     "name": "stdout",
     "output_type": "stream",
     "text": [
      "Training until validation scores don't improve for 10 rounds\n",
      "Early stopping, best iteration is:\n",
      "[1]\tvalid_0's AMEX score: 0.645585\tvalid_1's AMEX score: 0.525399\n",
      "Training until validation scores don't improve for 10 rounds\n",
      "Early stopping, best iteration is:\n",
      "[1]\tvalid_0's AMEX score: 0.645585\tvalid_1's AMEX score: 0.525399\n"
     ]
    },
    {
     "name": "stderr",
     "output_type": "stream",
     "text": [
      "/Users/rikuta/miniforge3/envs/env/lib/python3.8/site-packages/lightgbm/engine.py:181: UserWarning: 'early_stopping_rounds' argument is deprecated and will be removed in a future release of LightGBM. Pass 'early_stopping()' callback via 'callbacks' argument instead.\n",
      "  _log_warning(\"'early_stopping_rounds' argument is deprecated and will be removed in a future release of LightGBM. \"\n",
      "/Users/rikuta/miniforge3/envs/env/lib/python3.8/site-packages/lightgbm/engine.py:239: UserWarning: 'verbose_eval' argument is deprecated and will be removed in a future release of LightGBM. Pass 'log_evaluation()' callback via 'callbacks' argument instead.\n",
      "  _log_warning(\"'verbose_eval' argument is deprecated and will be removed in a future release of LightGBM. \"\n",
      "min_data_in_leaf, val_score: 0.525399:  80%|########  | 4/5 [00:00<00:00, 11.97it/s]"
     ]
    },
    {
     "name": "stdout",
     "output_type": "stream",
     "text": [
      "Training until validation scores don't improve for 10 rounds\n",
      "Early stopping, best iteration is:\n",
      "[1]\tvalid_0's AMEX score: 0.645585\tvalid_1's AMEX score: 0.525399\n"
     ]
    },
    {
     "name": "stderr",
     "output_type": "stream",
     "text": [
      "\u001b[32m[I 2022-06-23 08:24:12,528]\u001b[0m Trial 63 finished with value: 0.5253994459628332 and parameters: {'min_child_samples': 100}. Best is trial 60 with value: 0.5253994459628332.\u001b[0m\n",
      "min_data_in_leaf, val_score: 0.525399:  80%|########  | 4/5 [00:00<00:00, 11.97it/s]/Users/rikuta/miniforge3/envs/env/lib/python3.8/site-packages/lightgbm/engine.py:181: UserWarning: 'early_stopping_rounds' argument is deprecated and will be removed in a future release of LightGBM. Pass 'early_stopping()' callback via 'callbacks' argument instead.\n",
      "  _log_warning(\"'early_stopping_rounds' argument is deprecated and will be removed in a future release of LightGBM. \"\n",
      "/Users/rikuta/miniforge3/envs/env/lib/python3.8/site-packages/lightgbm/engine.py:239: UserWarning: 'verbose_eval' argument is deprecated and will be removed in a future release of LightGBM. Pass 'log_evaluation()' callback via 'callbacks' argument instead.\n",
      "  _log_warning(\"'verbose_eval' argument is deprecated and will be removed in a future release of LightGBM. \"\n",
      "min_data_in_leaf, val_score: 0.525399:  80%|########  | 4/5 [00:00<00:00, 11.97it/s]\u001b[32m[I 2022-06-23 08:24:12,608]\u001b[0m Trial 64 finished with value: 0.5253994459628332 and parameters: {'min_child_samples': 25}. Best is trial 60 with value: 0.5253994459628332.\u001b[0m\n",
      "min_data_in_leaf, val_score: 0.525399: 100%|##########| 5/5 [00:00<00:00, 11.98it/s]\n"
     ]
    },
    {
     "name": "stdout",
     "output_type": "stream",
     "text": [
      "Training until validation scores don't improve for 10 rounds\n",
      "Early stopping, best iteration is:\n",
      "[1]\tvalid_0's AMEX score: 0.645585\tvalid_1's AMEX score: 0.525399\n",
      "best_score defaultdict(<class 'collections.OrderedDict'>, {'valid_0': OrderedDict([('AMEX score', 0.6455854468508382)]), 'valid_1': OrderedDict([('AMEX score', 0.5253994459628332)])})\n"
     ]
    },
    {
     "ename": "KeyError",
     "evalue": "'[105, 154, 14, 191, 29, 10, 18, 74, 158, 162, 188, 3, 42, 87, 25, 100, 122, 4, 33, 138, 160, 126, 133, 75, 60, 58, 140, 24, 169, 2, 94, 21, 135, 117, 52, 128, 92, 19, 43, 69, 81, 145, 13, 198, 66, 118, 182, 193, 35, 116, 164, 132, 67, 166, 86, 22, 23, 111, 172, 88, 175, 143, 178, 93, 65, 70, 68, 150, 121, 152, 147, 190, 196, 192, 64, 59, 56, 16, 12, 11, 9, 20, 63, 7, 45, 44, 26, 46, 47, 41, 40, 49, 50, 51, 39, 38, 53, 54, 37, 31, 199, 99, 71, 170, 137, 139, 142, 148, 149, 151, 156, 159, 161, 163, 165, 167, 173, 134, 174, 177, 179, 180, 183, 185, 186, 187, 189, 194, 195, 197, 136, 72, 102, 73, 77, 78, 79, 80, 82, 83, 84, 85, 96, 98, 101, 130, 104, 107, 108, 112, 113, 115, 119, 123, 124, 125, 127, 129, 0] not in index'",
     "output_type": "error",
     "traceback": [
      "\u001b[0;31m---------------------------------------------------------------------------\u001b[0m",
      "\u001b[0;31mKeyError\u001b[0m                                  Traceback (most recent call last)",
      "\u001b[1;32m/Users/rikuta/Kaggle/AMEX LGBM.ipynb Cell 10'\u001b[0m in \u001b[0;36m<cell line: 2>\u001b[0;34m()\u001b[0m\n\u001b[1;32m      <a href='vscode-notebook-cell:/Users/rikuta/Kaggle/AMEX%20LGBM.ipynb#ch0000022?line=0'>1</a>\u001b[0m \u001b[39m#valid_score, models0, y_pred_valid, y_train = objective(optuna.trial.FixedTrial(study.best_params), fast_check=False, return_info=True)\u001b[39;00m\n\u001b[0;32m----> <a href='vscode-notebook-cell:/Users/rikuta/Kaggle/AMEX%20LGBM.ipynb#ch0000022?line=1'>2</a>\u001b[0m valid_score, models0, y_pred_valid, y_train \u001b[39m=\u001b[39m objective(optuna\u001b[39m.\u001b[39;49mtrial\u001b[39m.\u001b[39;49mFixedTrial(params_last), fast_check\u001b[39m=\u001b[39;49m\u001b[39mFalse\u001b[39;49;00m, return_info\u001b[39m=\u001b[39;49m\u001b[39mTrue\u001b[39;49;00m)\n",
      "\u001b[1;32m/Users/rikuta/Kaggle/AMEX LGBM.ipynb Cell 7'\u001b[0m in \u001b[0;36mobjective\u001b[0;34m(trial, fast_check, return_info)\u001b[0m\n\u001b[1;32m     <a href='vscode-notebook-cell:/Users/rikuta/Kaggle/AMEX%20LGBM.ipynb#ch0000012?line=12'>13</a>\u001b[0m valid_data \u001b[39m=\u001b[39m data_use\u001b[39m.\u001b[39miloc[valid_idx,:], train_labels[\u001b[39m\"\u001b[39m\u001b[39mtarget\u001b[39m\u001b[39m\"\u001b[39m]\u001b[39m.\u001b[39miloc[valid_idx]\n\u001b[1;32m     <a href='vscode-notebook-cell:/Users/rikuta/Kaggle/AMEX%20LGBM.ipynb#ch0000012?line=14'>15</a>\u001b[0m \u001b[39mprint\u001b[39m(\u001b[39m'\u001b[39m\u001b[39mtrain\u001b[39m\u001b[39m'\u001b[39m, \u001b[39mlen\u001b[39m(train_idx), \u001b[39m'\u001b[39m\u001b[39mvalid\u001b[39m\u001b[39m'\u001b[39m, \u001b[39mlen\u001b[39m(valid_idx))\n\u001b[0;32m---> <a href='vscode-notebook-cell:/Users/rikuta/Kaggle/AMEX%20LGBM.ipynb#ch0000012?line=16'>17</a>\u001b[0m model, y_pred_valid, log \u001b[39m=\u001b[39m fit_lgbm(trial, train_data, valid_data, num_rounds\u001b[39m=\u001b[39;49m\u001b[39m1200\u001b[39;49m)\n\u001b[1;32m     <a href='vscode-notebook-cell:/Users/rikuta/Kaggle/AMEX%20LGBM.ipynb#ch0000012?line=18'>19</a>\u001b[0m y_valid_pred_total[valid_idx] \u001b[39m=\u001b[39m y_pred_valid\n\u001b[1;32m     <a href='vscode-notebook-cell:/Users/rikuta/Kaggle/AMEX%20LGBM.ipynb#ch0000012?line=19'>20</a>\u001b[0m models\u001b[39m.\u001b[39mappend(model)\n",
      "\u001b[1;32m/Users/rikuta/Kaggle/AMEX LGBM.ipynb Cell 6'\u001b[0m in \u001b[0;36mfit_lgbm\u001b[0;34m(trial, train, val, devices, cat_features, num_rounds)\u001b[0m\n\u001b[1;32m     <a href='vscode-notebook-cell:/Users/rikuta/Kaggle/AMEX%20LGBM.ipynb#ch0000011?line=62'>63</a>\u001b[0m y_pred_valid \u001b[39m=\u001b[39m model\u001b[39m.\u001b[39mpredict(X_valid, num_iteration\u001b[39m=\u001b[39mmodel\u001b[39m.\u001b[39mbest_iteration)\n\u001b[1;32m     <a href='vscode-notebook-cell:/Users/rikuta/Kaggle/AMEX%20LGBM.ipynb#ch0000011?line=64'>65</a>\u001b[0m \u001b[39mprint\u001b[39m(\u001b[39m'\u001b[39m\u001b[39mbest_score\u001b[39m\u001b[39m'\u001b[39m, model\u001b[39m.\u001b[39mbest_score)\n\u001b[0;32m---> <a href='vscode-notebook-cell:/Users/rikuta/Kaggle/AMEX%20LGBM.ipynb#ch0000011?line=65'>66</a>\u001b[0m log \u001b[39m=\u001b[39m {\u001b[39m'\u001b[39m\u001b[39mvalid/amex\u001b[39m\u001b[39m'\u001b[39m: amex_metric(y_valid, y_pred_valid)}\n\u001b[1;32m     <a href='vscode-notebook-cell:/Users/rikuta/Kaggle/AMEX%20LGBM.ipynb#ch0000011?line=66'>67</a>\u001b[0m \u001b[39mreturn\u001b[39;00m model, y_pred_valid, log\n",
      "\u001b[1;32m/Users/rikuta/Kaggle/AMEX LGBM.ipynb Cell 4'\u001b[0m in \u001b[0;36mamex_metric\u001b[0;34m(y_true, y_pred)\u001b[0m\n\u001b[1;32m      <a href='vscode-notebook-cell:/Users/rikuta/Kaggle/AMEX%20LGBM.ipynb#ch0000005?line=7'>8</a>\u001b[0m \u001b[39m# sorting by descring prediction values\u001b[39;00m\n\u001b[1;32m      <a href='vscode-notebook-cell:/Users/rikuta/Kaggle/AMEX%20LGBM.ipynb#ch0000005?line=8'>9</a>\u001b[0m indices \u001b[39m=\u001b[39m np\u001b[39m.\u001b[39margsort(y_pred)[::\u001b[39m-\u001b[39m\u001b[39m1\u001b[39m]\n\u001b[0;32m---> <a href='vscode-notebook-cell:/Users/rikuta/Kaggle/AMEX%20LGBM.ipynb#ch0000005?line=9'>10</a>\u001b[0m preds, target \u001b[39m=\u001b[39m y_pred[indices], y_true[indices]\n\u001b[1;32m     <a href='vscode-notebook-cell:/Users/rikuta/Kaggle/AMEX%20LGBM.ipynb#ch0000005?line=11'>12</a>\u001b[0m \u001b[39m# filter the top 4% by cumulative row weights\u001b[39;00m\n\u001b[1;32m     <a href='vscode-notebook-cell:/Users/rikuta/Kaggle/AMEX%20LGBM.ipynb#ch0000005?line=12'>13</a>\u001b[0m weight \u001b[39m=\u001b[39m \u001b[39m20.0\u001b[39m \u001b[39m-\u001b[39m target \u001b[39m*\u001b[39m \u001b[39m19.0\u001b[39m\n",
      "File \u001b[0;32m~/miniforge3/envs/env/lib/python3.8/site-packages/pandas/core/series.py:984\u001b[0m, in \u001b[0;36mSeries.__getitem__\u001b[0;34m(self, key)\u001b[0m\n\u001b[1;32m    981\u001b[0m     key \u001b[39m=\u001b[39m np\u001b[39m.\u001b[39masarray(key, dtype\u001b[39m=\u001b[39m\u001b[39mbool\u001b[39m)\n\u001b[1;32m    982\u001b[0m     \u001b[39mreturn\u001b[39;00m \u001b[39mself\u001b[39m\u001b[39m.\u001b[39m_get_values(key)\n\u001b[0;32m--> 984\u001b[0m \u001b[39mreturn\u001b[39;00m \u001b[39mself\u001b[39;49m\u001b[39m.\u001b[39;49m_get_with(key)\n",
      "File \u001b[0;32m~/miniforge3/envs/env/lib/python3.8/site-packages/pandas/core/series.py:1019\u001b[0m, in \u001b[0;36mSeries._get_with\u001b[0;34m(self, key)\u001b[0m\n\u001b[1;32m   1015\u001b[0m \u001b[39mif\u001b[39;00m key_type \u001b[39m==\u001b[39m \u001b[39m\"\u001b[39m\u001b[39minteger\u001b[39m\u001b[39m\"\u001b[39m:\n\u001b[1;32m   1016\u001b[0m     \u001b[39m# We need to decide whether to treat this as a positional indexer\u001b[39;00m\n\u001b[1;32m   1017\u001b[0m     \u001b[39m#  (i.e. self.iloc) or label-based (i.e. self.loc)\u001b[39;00m\n\u001b[1;32m   1018\u001b[0m     \u001b[39mif\u001b[39;00m \u001b[39mnot\u001b[39;00m \u001b[39mself\u001b[39m\u001b[39m.\u001b[39mindex\u001b[39m.\u001b[39m_should_fallback_to_positional:\n\u001b[0;32m-> 1019\u001b[0m         \u001b[39mreturn\u001b[39;00m \u001b[39mself\u001b[39;49m\u001b[39m.\u001b[39;49mloc[key]\n\u001b[1;32m   1020\u001b[0m     \u001b[39melse\u001b[39;00m:\n\u001b[1;32m   1021\u001b[0m         \u001b[39mreturn\u001b[39;00m \u001b[39mself\u001b[39m\u001b[39m.\u001b[39miloc[key]\n",
      "File \u001b[0;32m~/miniforge3/envs/env/lib/python3.8/site-packages/pandas/core/indexing.py:967\u001b[0m, in \u001b[0;36m_LocationIndexer.__getitem__\u001b[0;34m(self, key)\u001b[0m\n\u001b[1;32m    964\u001b[0m axis \u001b[39m=\u001b[39m \u001b[39mself\u001b[39m\u001b[39m.\u001b[39maxis \u001b[39mor\u001b[39;00m \u001b[39m0\u001b[39m\n\u001b[1;32m    966\u001b[0m maybe_callable \u001b[39m=\u001b[39m com\u001b[39m.\u001b[39mapply_if_callable(key, \u001b[39mself\u001b[39m\u001b[39m.\u001b[39mobj)\n\u001b[0;32m--> 967\u001b[0m \u001b[39mreturn\u001b[39;00m \u001b[39mself\u001b[39;49m\u001b[39m.\u001b[39;49m_getitem_axis(maybe_callable, axis\u001b[39m=\u001b[39;49maxis)\n",
      "File \u001b[0;32m~/miniforge3/envs/env/lib/python3.8/site-packages/pandas/core/indexing.py:1191\u001b[0m, in \u001b[0;36m_LocIndexer._getitem_axis\u001b[0;34m(self, key, axis)\u001b[0m\n\u001b[1;32m   1188\u001b[0m     \u001b[39mif\u001b[39;00m \u001b[39mhasattr\u001b[39m(key, \u001b[39m\"\u001b[39m\u001b[39mndim\u001b[39m\u001b[39m\"\u001b[39m) \u001b[39mand\u001b[39;00m key\u001b[39m.\u001b[39mndim \u001b[39m>\u001b[39m \u001b[39m1\u001b[39m:\n\u001b[1;32m   1189\u001b[0m         \u001b[39mraise\u001b[39;00m \u001b[39mValueError\u001b[39;00m(\u001b[39m\"\u001b[39m\u001b[39mCannot index with multidimensional key\u001b[39m\u001b[39m\"\u001b[39m)\n\u001b[0;32m-> 1191\u001b[0m     \u001b[39mreturn\u001b[39;00m \u001b[39mself\u001b[39;49m\u001b[39m.\u001b[39;49m_getitem_iterable(key, axis\u001b[39m=\u001b[39;49maxis)\n\u001b[1;32m   1193\u001b[0m \u001b[39m# nested tuple slicing\u001b[39;00m\n\u001b[1;32m   1194\u001b[0m \u001b[39mif\u001b[39;00m is_nested_tuple(key, labels):\n",
      "File \u001b[0;32m~/miniforge3/envs/env/lib/python3.8/site-packages/pandas/core/indexing.py:1132\u001b[0m, in \u001b[0;36m_LocIndexer._getitem_iterable\u001b[0;34m(self, key, axis)\u001b[0m\n\u001b[1;32m   1129\u001b[0m \u001b[39mself\u001b[39m\u001b[39m.\u001b[39m_validate_key(key, axis)\n\u001b[1;32m   1131\u001b[0m \u001b[39m# A collection of keys\u001b[39;00m\n\u001b[0;32m-> 1132\u001b[0m keyarr, indexer \u001b[39m=\u001b[39m \u001b[39mself\u001b[39;49m\u001b[39m.\u001b[39;49m_get_listlike_indexer(key, axis)\n\u001b[1;32m   1133\u001b[0m \u001b[39mreturn\u001b[39;00m \u001b[39mself\u001b[39m\u001b[39m.\u001b[39mobj\u001b[39m.\u001b[39m_reindex_with_indexers(\n\u001b[1;32m   1134\u001b[0m     {axis: [keyarr, indexer]}, copy\u001b[39m=\u001b[39m\u001b[39mTrue\u001b[39;00m, allow_dups\u001b[39m=\u001b[39m\u001b[39mTrue\u001b[39;00m\n\u001b[1;32m   1135\u001b[0m )\n",
      "File \u001b[0;32m~/miniforge3/envs/env/lib/python3.8/site-packages/pandas/core/indexing.py:1327\u001b[0m, in \u001b[0;36m_LocIndexer._get_listlike_indexer\u001b[0;34m(self, key, axis)\u001b[0m\n\u001b[1;32m   1324\u001b[0m ax \u001b[39m=\u001b[39m \u001b[39mself\u001b[39m\u001b[39m.\u001b[39mobj\u001b[39m.\u001b[39m_get_axis(axis)\n\u001b[1;32m   1325\u001b[0m axis_name \u001b[39m=\u001b[39m \u001b[39mself\u001b[39m\u001b[39m.\u001b[39mobj\u001b[39m.\u001b[39m_get_axis_name(axis)\n\u001b[0;32m-> 1327\u001b[0m keyarr, indexer \u001b[39m=\u001b[39m ax\u001b[39m.\u001b[39;49m_get_indexer_strict(key, axis_name)\n\u001b[1;32m   1329\u001b[0m \u001b[39mreturn\u001b[39;00m keyarr, indexer\n",
      "File \u001b[0;32m~/miniforge3/envs/env/lib/python3.8/site-packages/pandas/core/indexes/base.py:5782\u001b[0m, in \u001b[0;36mIndex._get_indexer_strict\u001b[0;34m(self, key, axis_name)\u001b[0m\n\u001b[1;32m   5779\u001b[0m \u001b[39melse\u001b[39;00m:\n\u001b[1;32m   5780\u001b[0m     keyarr, indexer, new_indexer \u001b[39m=\u001b[39m \u001b[39mself\u001b[39m\u001b[39m.\u001b[39m_reindex_non_unique(keyarr)\n\u001b[0;32m-> 5782\u001b[0m \u001b[39mself\u001b[39;49m\u001b[39m.\u001b[39;49m_raise_if_missing(keyarr, indexer, axis_name)\n\u001b[1;32m   5784\u001b[0m keyarr \u001b[39m=\u001b[39m \u001b[39mself\u001b[39m\u001b[39m.\u001b[39mtake(indexer)\n\u001b[1;32m   5785\u001b[0m \u001b[39mif\u001b[39;00m \u001b[39misinstance\u001b[39m(key, Index):\n\u001b[1;32m   5786\u001b[0m     \u001b[39m# GH 42790 - Preserve name from an Index\u001b[39;00m\n",
      "File \u001b[0;32m~/miniforge3/envs/env/lib/python3.8/site-packages/pandas/core/indexes/base.py:5845\u001b[0m, in \u001b[0;36mIndex._raise_if_missing\u001b[0;34m(self, key, indexer, axis_name)\u001b[0m\n\u001b[1;32m   5842\u001b[0m     \u001b[39mraise\u001b[39;00m \u001b[39mKeyError\u001b[39;00m(\u001b[39mf\u001b[39m\u001b[39m\"\u001b[39m\u001b[39mNone of [\u001b[39m\u001b[39m{\u001b[39;00mkey\u001b[39m}\u001b[39;00m\u001b[39m] are in the [\u001b[39m\u001b[39m{\u001b[39;00maxis_name\u001b[39m}\u001b[39;00m\u001b[39m]\u001b[39m\u001b[39m\"\u001b[39m)\n\u001b[1;32m   5844\u001b[0m not_found \u001b[39m=\u001b[39m \u001b[39mlist\u001b[39m(ensure_index(key)[missing_mask\u001b[39m.\u001b[39mnonzero()[\u001b[39m0\u001b[39m]]\u001b[39m.\u001b[39munique())\n\u001b[0;32m-> 5845\u001b[0m \u001b[39mraise\u001b[39;00m \u001b[39mKeyError\u001b[39;00m(\u001b[39mf\u001b[39m\u001b[39m\"\u001b[39m\u001b[39m{\u001b[39;00mnot_found\u001b[39m}\u001b[39;00m\u001b[39m not in index\u001b[39m\u001b[39m\"\u001b[39m)\n",
      "\u001b[0;31mKeyError\u001b[0m: '[105, 154, 14, 191, 29, 10, 18, 74, 158, 162, 188, 3, 42, 87, 25, 100, 122, 4, 33, 138, 160, 126, 133, 75, 60, 58, 140, 24, 169, 2, 94, 21, 135, 117, 52, 128, 92, 19, 43, 69, 81, 145, 13, 198, 66, 118, 182, 193, 35, 116, 164, 132, 67, 166, 86, 22, 23, 111, 172, 88, 175, 143, 178, 93, 65, 70, 68, 150, 121, 152, 147, 190, 196, 192, 64, 59, 56, 16, 12, 11, 9, 20, 63, 7, 45, 44, 26, 46, 47, 41, 40, 49, 50, 51, 39, 38, 53, 54, 37, 31, 199, 99, 71, 170, 137, 139, 142, 148, 149, 151, 156, 159, 161, 163, 165, 167, 173, 134, 174, 177, 179, 180, 183, 185, 186, 187, 189, 194, 195, 197, 136, 72, 102, 73, 77, 78, 79, 80, 82, 83, 84, 85, 96, 98, 101, 130, 104, 107, 108, 112, 113, 115, 119, 123, 124, 125, 127, 129, 0] not in index'"
     ]
    }
   ],
   "source": [
    "#valid_score, models0, y_pred_valid, y_train = objective(optuna.trial.FixedTrial(study.best_params), fast_check=False, return_info=True)\n",
    "valid_score, models0, y_pred_valid, y_train = objective(optuna.trial.FixedTrial(params_last), fast_check=False, return_info=True)"
   ]
  },
  {
   "cell_type": "code",
   "execution_count": null,
   "id": "74c672d7",
   "metadata": {},
   "outputs": [],
   "source": [
    "num_cols=data_use._get_numeric_data().columns\n",
    "cat_features=list(set(data_use.columns) - set(num_cols))    \n",
    "\n",
    "\n",
    "study = optuna.create_study(direction='maximize')\n",
    "study.optimize(objective, n_trials=1)\n",
    "\n",
    "\n",
    "#timeout = 60 * 30\n",
    "\n",
    "#study = optuna.create_study(\n",
    "#    pruner=optuna.pruners.SuccessiveHalvingPruner(min_resource=2, reduction_factor=4, min_early_stopping_rate=1))\n",
    "#study.optimize(objective, timeout=timeout)"
   ]
  },
  {
   "cell_type": "code",
   "execution_count": 40,
   "id": "52ea116e",
   "metadata": {},
   "outputs": [
    {
     "ename": "ValueError",
     "evalue": "No trials are completed yet.",
     "output_type": "error",
     "traceback": [
      "\u001b[0;31m---------------------------------------------------------------------------\u001b[0m",
      "\u001b[0;31mValueError\u001b[0m                                Traceback (most recent call last)",
      "\u001b[1;32m/Users/rikuta/Kaggle/AMEX LGBM.ipynb Cell 15'\u001b[0m in \u001b[0;36m<cell line: 1>\u001b[0;34m()\u001b[0m\n\u001b[0;32m----> <a href='vscode-notebook-cell:/Users/rikuta/Kaggle/AMEX%20LGBM.ipynb#ch0000010?line=0'>1</a>\u001b[0m study\u001b[39m.\u001b[39;49mbest_params\n",
      "File \u001b[0;32m~/miniforge3/envs/env/lib/python3.8/site-packages/optuna/study/study.py:60\u001b[0m, in \u001b[0;36mBaseStudy.best_params\u001b[0;34m(self)\u001b[0m\n\u001b[1;32m     48\u001b[0m \u001b[39m@property\u001b[39m\n\u001b[1;32m     49\u001b[0m \u001b[39mdef\u001b[39;00m \u001b[39mbest_params\u001b[39m(\u001b[39mself\u001b[39m) \u001b[39m-\u001b[39m\u001b[39m>\u001b[39m Dict[\u001b[39mstr\u001b[39m, Any]:\n\u001b[1;32m     50\u001b[0m     \u001b[39m\"\"\"Return parameters of the best trial in the study.\u001b[39;00m\n\u001b[1;32m     51\u001b[0m \n\u001b[1;32m     52\u001b[0m \u001b[39m    Returns:\u001b[39;00m\n\u001b[0;32m   (...)\u001b[0m\n\u001b[1;32m     57\u001b[0m \u001b[39m            If the study has more than one direction.\u001b[39;00m\n\u001b[1;32m     58\u001b[0m \u001b[39m    \"\"\"\u001b[39;00m\n\u001b[0;32m---> 60\u001b[0m     \u001b[39mreturn\u001b[39;00m \u001b[39mself\u001b[39;49m\u001b[39m.\u001b[39;49mbest_trial\u001b[39m.\u001b[39mparams\n",
      "File \u001b[0;32m~/miniforge3/envs/env/lib/python3.8/site-packages/optuna/study/study.py:97\u001b[0m, in \u001b[0;36mBaseStudy.best_trial\u001b[0;34m(self)\u001b[0m\n\u001b[1;32m     91\u001b[0m \u001b[39mif\u001b[39;00m \u001b[39mself\u001b[39m\u001b[39m.\u001b[39m_is_multi_objective():\n\u001b[1;32m     92\u001b[0m     \u001b[39mraise\u001b[39;00m \u001b[39mRuntimeError\u001b[39;00m(\n\u001b[1;32m     93\u001b[0m         \u001b[39m\"\u001b[39m\u001b[39mA single best trial cannot be retrieved from a multi-objective study. Consider \u001b[39m\u001b[39m\"\u001b[39m\n\u001b[1;32m     94\u001b[0m         \u001b[39m\"\u001b[39m\u001b[39musing Study.best_trials to retrieve a list containing the best trials.\u001b[39m\u001b[39m\"\u001b[39m\n\u001b[1;32m     95\u001b[0m     )\n\u001b[0;32m---> 97\u001b[0m \u001b[39mreturn\u001b[39;00m copy\u001b[39m.\u001b[39mdeepcopy(\u001b[39mself\u001b[39;49m\u001b[39m.\u001b[39;49m_storage\u001b[39m.\u001b[39;49mget_best_trial(\u001b[39mself\u001b[39;49m\u001b[39m.\u001b[39;49m_study_id))\n",
      "File \u001b[0;32m~/miniforge3/envs/env/lib/python3.8/site-packages/optuna/storages/_in_memory.py:311\u001b[0m, in \u001b[0;36mInMemoryStorage.get_best_trial\u001b[0;34m(self, study_id)\u001b[0m\n\u001b[1;32m    309\u001b[0m best_trial_id \u001b[39m=\u001b[39m \u001b[39mself\u001b[39m\u001b[39m.\u001b[39m_studies[study_id]\u001b[39m.\u001b[39mbest_trial_id\n\u001b[1;32m    310\u001b[0m \u001b[39mif\u001b[39;00m best_trial_id \u001b[39mis\u001b[39;00m \u001b[39mNone\u001b[39;00m:\n\u001b[0;32m--> 311\u001b[0m     \u001b[39mraise\u001b[39;00m \u001b[39mValueError\u001b[39;00m(\u001b[39m\"\u001b[39m\u001b[39mNo trials are completed yet.\u001b[39m\u001b[39m\"\u001b[39m)\n\u001b[1;32m    312\u001b[0m \u001b[39melif\u001b[39;00m \u001b[39mlen\u001b[39m(\u001b[39mself\u001b[39m\u001b[39m.\u001b[39m_studies[study_id]\u001b[39m.\u001b[39mdirections) \u001b[39m>\u001b[39m \u001b[39m1\u001b[39m:\n\u001b[1;32m    313\u001b[0m     \u001b[39mraise\u001b[39;00m \u001b[39mValueError\u001b[39;00m(\n\u001b[1;32m    314\u001b[0m         \u001b[39m\"\u001b[39m\u001b[39mBest trial can be obtained only for single-objective optimization.\u001b[39m\u001b[39m\"\u001b[39m\n\u001b[1;32m    315\u001b[0m     )\n",
      "\u001b[0;31mValueError\u001b[0m: No trials are completed yet."
     ]
    }
   ],
   "source": [
    "study.best_params"
   ]
  },
  {
   "cell_type": "code",
   "execution_count": 223,
   "id": "9dbcc0ba",
   "metadata": {},
   "outputs": [],
   "source": [
    "#ensemble\n",
    "test=pd.read_feather(\"../Kaggle/AMEX/test_data.ftr\")\n",
    "sub1 = pd.read_csv('../Kaggle/AMEX/submission_ens.csv')"
   ]
  },
  {
   "cell_type": "code",
   "execution_count": 278,
   "id": "266db92a",
   "metadata": {},
   "outputs": [],
   "source": [
    "#CatBoost prediction\n",
    "col=data_use.columns\n",
    "test_ID=test['customer_ID'].unique()\n",
    "pred_catboost= clf.predict_proba(test_use[col])[:, 1]"
   ]
  },
  {
   "cell_type": "code",
   "execution_count": 280,
   "id": "76c57c5e",
   "metadata": {},
   "outputs": [],
   "source": [
    "sub2= pd.DataFrame({'customer_ID':test_ID, 'prediction2':pred_catboost})"
   ]
  },
  {
   "cell_type": "code",
   "execution_count": 283,
   "id": "99b3d578",
   "metadata": {},
   "outputs": [],
   "source": [
    "#Ensemble\n",
    "sub1 = pd.read_csv('../Kaggle/AMEX/submission_ens.csv')\n",
    "\n",
    "blend = pd.merge(sub1, sub2, how='inner', on='customer_ID')\n",
    "blend.prediction = (blend.prediction * 0.95 + blend.prediction2 * 0.05)\n",
    "blend[['customer_ID', 'prediction']].to_csv('../Kaggle/AMEX/0613submission2.csv', index=False)"
   ]
  },
  {
   "cell_type": "code",
   "execution_count": null,
   "id": "c99fb54f",
   "metadata": {},
   "outputs": [],
   "source": []
  },
  {
   "cell_type": "code",
   "execution_count": null,
   "id": "d15572db",
   "metadata": {},
   "outputs": [],
   "source": [
    "#lightgbm fit\n",
    "ONLY_FIRST_FOLD = True\n",
    "INFERENCE = True\n",
    "\n",
    "\n",
    "model=lgb.train(params, \n",
    "                categorical_feature=cat_features,\n",
    "                train_set=d_train,\n",
    "                valid_sets=watchlist,\n",
    "                num_boost_round=10000,  # 最大学習サイクル数。early_stopping使用時は大きな値を入力\n",
    "                callbacks=callbacks, # コマンドライン出力用コールバック関数\n",
    "                feval=amex_metric_optuna,\n",
    "                )\n",
    "      \n",
    "score_list = []\n",
    "y_pred_list = []\n",
    "kf = StratifiedKFold(n_splits=5)\n",
    "for fold, (idx_tr, idx_va) in enumerate(kf.split(data_use, train_labels[\"target\"])):\n",
    "    X_tr, X_va, y_tr, y_va, model = None, None, None, None, None\n",
    "\n",
    "    X_tr = data_use.iloc[idx_tr]\n",
    "    X_va = data_use.iloc[idx_va]\n",
    "    y_tr = train_labels[\"target\"][idx_tr]\n",
    "    y_va = train_labels[\"target\"][idx_va]\n",
    "    \n",
    "    model = my_booster()\n",
    "\n",
    "    model.fit(X_tr, y_tr,\n",
    "            eval_set = [(X_va, y_va)], \n",
    "            eval_metric=[lgb_amex_metric],\n",
    "            callbacks=[log_evaluation(100)])\n",
    "    X_tr, y_tr = None, None\n",
    "    y_va_pred = model.predict_proba(X_va, raw_score=True)\n",
    "    score = amex_metric(y_va.to_numpy(), y_va_pred)\n",
    "    n_trees = model.best_iteration_\n",
    "    if n_trees is None: n_trees = model.n_estimators\n",
    "    print(f\"{Fore.GREEN}{Style.BRIGHT}Fold {fold} \"\n",
    "          f\"                Score = {score:.5f}{Style.RESET_ALL}\")\n",
    "    score_list.append(score)\n",
    "    \n",
    "    if INFERENCE:\n",
    "        y_pred_list.append(model.predict_proba(test, raw_score=True))\n",
    "        \n",
    "    if ONLY_FIRST_FOLD: break # we only want the first fold\n",
    "    \n",
    "print(f\"{Fore.GREEN}{Style.BRIGHT}OOF Score:   {np.mean(score_list):.5f}{Style.RESET_ALL}\")"
   ]
  },
  {
   "cell_type": "code",
   "execution_count": null,
   "metadata": {},
   "outputs": [],
   "source": []
  }
 ],
 "metadata": {
  "kernelspec": {
   "display_name": "Python 3.8.13 ('env')",
   "language": "python",
   "name": "python3"
  },
  "language_info": {
   "codemirror_mode": {
    "name": "ipython",
    "version": 3
   },
   "file_extension": ".py",
   "mimetype": "text/x-python",
   "name": "python",
   "nbconvert_exporter": "python",
   "pygments_lexer": "ipython3",
   "version": "3.8.13"
  },
  "vscode": {
   "interpreter": {
    "hash": "4da8eb4402250ad25264d8ad4ce1c325063698da828d20e26522c6fdb53f3b79"
   }
  }
 },
 "nbformat": 4,
 "nbformat_minor": 5
}
